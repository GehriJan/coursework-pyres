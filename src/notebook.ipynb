{
 "cells": [
  {
   "cell_type": "markdown",
   "metadata": {},
   "source": [
    "#### Imports"
   ]
  },
  {
   "cell_type": "code",
   "execution_count": 1,
   "metadata": {},
   "outputs": [],
   "source": [
    "import pandas as pd\n",
    "import os\n",
    "import cProfile\n",
    "import re\n",
    "import sys\n",
    "from pathlib import Path\n",
    "from datetime import datetime\n",
    "import numpy as np\n",
    "from tqdm import tqdm\n",
    "import matplotlib.pyplot as plt\n",
    "\n",
    "notebook_dir = Path().resolve()\n",
    "pyres_dir = str(notebook_dir.parent) + \"/PyRes\"\n",
    "sys.path.append(pyres_dir)\n",
    "import pyres_fof\n",
    "\n",
    "os.environ[\"TPTP\"] = str(notebook_dir) + \"/TPTP-v9.0.0\""
   ]
  },
  {
   "cell_type": "markdown",
   "metadata": {},
   "source": [
    "## Data sources"
   ]
  },
  {
   "cell_type": "markdown",
   "metadata": {},
   "source": [
    "### Data source 1: Previous PyRes run on TPTP"
   ]
  },
  {
   "cell_type": "code",
   "execution_count": 8,
   "metadata": {},
   "outputs": [
    {
     "data": {
      "text/html": [
       "<div>\n",
       "<style scoped>\n",
       "    .dataframe tbody tr th:only-of-type {\n",
       "        vertical-align: middle;\n",
       "    }\n",
       "\n",
       "    .dataframe tbody tr th {\n",
       "        vertical-align: top;\n",
       "    }\n",
       "\n",
       "    .dataframe thead th {\n",
       "        text-align: right;\n",
       "    }\n",
       "</style>\n",
       "<table border=\"1\" class=\"dataframe\">\n",
       "  <thead>\n",
       "    <tr style=\"text-align: right;\">\n",
       "      <th></th>\n",
       "      <th>Problem</th>\n",
       "      <th>Status</th>\n",
       "      <th>Usertime</th>\n",
       "      <th>Failure</th>\n",
       "      <th>Version</th>\n",
       "      <th>Preprocessingtime</th>\n",
       "      <th>Backward_subsumed</th>\n",
       "      <th>Factors_computed</th>\n",
       "      <th>Forward_subsumed</th>\n",
       "      <th>Initial_clauses</th>\n",
       "      <th>Processed_clauses</th>\n",
       "      <th>Resolvents_computed</th>\n",
       "      <th>Systemtime</th>\n",
       "      <th>Tautologies_deleted</th>\n",
       "      <th>Totaltime</th>\n",
       "    </tr>\n",
       "  </thead>\n",
       "  <tbody>\n",
       "    <tr>\n",
       "      <th>13131</th>\n",
       "      <td>SWV194+1.p</td>\n",
       "      <td>T</td>\n",
       "      <td>99.852</td>\n",
       "      <td>success</td>\n",
       "      <td>1.2</td>\n",
       "      <td>-</td>\n",
       "      <td>4</td>\n",
       "      <td>1</td>\n",
       "      <td>1960</td>\n",
       "      <td>357</td>\n",
       "      <td>2166</td>\n",
       "      <td>98975</td>\n",
       "      <td>0.371</td>\n",
       "      <td>2</td>\n",
       "      <td>100.223</td>\n",
       "    </tr>\n",
       "    <tr>\n",
       "      <th>5358</th>\n",
       "      <td>LAT261-1.p</td>\n",
       "      <td>T</td>\n",
       "      <td>99.759</td>\n",
       "      <td>success</td>\n",
       "      <td>1.2</td>\n",
       "      <td>-</td>\n",
       "      <td>12</td>\n",
       "      <td>5</td>\n",
       "      <td>5673</td>\n",
       "      <td>3038</td>\n",
       "      <td>3687</td>\n",
       "      <td>61459</td>\n",
       "      <td>0.138</td>\n",
       "      <td>72</td>\n",
       "      <td>99.897</td>\n",
       "    </tr>\n",
       "    <tr>\n",
       "      <th>11919</th>\n",
       "      <td>SWB011+1.p</td>\n",
       "      <td>T</td>\n",
       "      <td>99.539</td>\n",
       "      <td>success</td>\n",
       "      <td>1.2</td>\n",
       "      <td>-</td>\n",
       "      <td>25</td>\n",
       "      <td>198</td>\n",
       "      <td>4675</td>\n",
       "      <td>1281</td>\n",
       "      <td>3675</td>\n",
       "      <td>43267</td>\n",
       "      <td>0.120</td>\n",
       "      <td>58</td>\n",
       "      <td>99.659</td>\n",
       "    </tr>\n",
       "    <tr>\n",
       "      <th>5094</th>\n",
       "      <td>LAT005-2.p</td>\n",
       "      <td>T</td>\n",
       "      <td>98.176</td>\n",
       "      <td>success</td>\n",
       "      <td>1.2</td>\n",
       "      <td>-</td>\n",
       "      <td>55</td>\n",
       "      <td>0</td>\n",
       "      <td>4391</td>\n",
       "      <td>31</td>\n",
       "      <td>3966</td>\n",
       "      <td>9397</td>\n",
       "      <td>0.032</td>\n",
       "      <td>339</td>\n",
       "      <td>98.208</td>\n",
       "    </tr>\n",
       "    <tr>\n",
       "      <th>2021</th>\n",
       "      <td>FLD021-3.p</td>\n",
       "      <td>T</td>\n",
       "      <td>97.506</td>\n",
       "      <td>success</td>\n",
       "      <td>1.2</td>\n",
       "      <td>-</td>\n",
       "      <td>6</td>\n",
       "      <td>8</td>\n",
       "      <td>96</td>\n",
       "      <td>30</td>\n",
       "      <td>1970</td>\n",
       "      <td>277716</td>\n",
       "      <td>0.371</td>\n",
       "      <td>10</td>\n",
       "      <td>97.877</td>\n",
       "    </tr>\n",
       "    <tr>\n",
       "      <th>...</th>\n",
       "      <td>...</td>\n",
       "      <td>...</td>\n",
       "      <td>...</td>\n",
       "      <td>...</td>\n",
       "      <td>...</td>\n",
       "      <td>...</td>\n",
       "      <td>...</td>\n",
       "      <td>...</td>\n",
       "      <td>...</td>\n",
       "      <td>...</td>\n",
       "      <td>...</td>\n",
       "      <td>...</td>\n",
       "      <td>...</td>\n",
       "      <td>...</td>\n",
       "      <td>...</td>\n",
       "    </tr>\n",
       "    <tr>\n",
       "      <th>5722</th>\n",
       "      <td>LAT362+3.p</td>\n",
       "      <td>F</td>\n",
       "      <td>-</td>\n",
       "      <td>unknown</td>\n",
       "      <td>1.2</td>\n",
       "      <td>-</td>\n",
       "      <td>-</td>\n",
       "      <td>-</td>\n",
       "      <td>-</td>\n",
       "      <td>-</td>\n",
       "      <td>-</td>\n",
       "      <td>-</td>\n",
       "      <td>-</td>\n",
       "      <td>-</td>\n",
       "      <td>-</td>\n",
       "    </tr>\n",
       "    <tr>\n",
       "      <th>5723</th>\n",
       "      <td>LAT362+4.p</td>\n",
       "      <td>F</td>\n",
       "      <td>-</td>\n",
       "      <td>unknown</td>\n",
       "      <td>1.2</td>\n",
       "      <td>-</td>\n",
       "      <td>-</td>\n",
       "      <td>-</td>\n",
       "      <td>-</td>\n",
       "      <td>-</td>\n",
       "      <td>-</td>\n",
       "      <td>-</td>\n",
       "      <td>-</td>\n",
       "      <td>-</td>\n",
       "      <td>-</td>\n",
       "    </tr>\n",
       "    <tr>\n",
       "      <th>5724</th>\n",
       "      <td>LAT363+1.p</td>\n",
       "      <td>F</td>\n",
       "      <td>-</td>\n",
       "      <td>unknown</td>\n",
       "      <td>1.2</td>\n",
       "      <td>-</td>\n",
       "      <td>-</td>\n",
       "      <td>-</td>\n",
       "      <td>-</td>\n",
       "      <td>-</td>\n",
       "      <td>-</td>\n",
       "      <td>-</td>\n",
       "      <td>-</td>\n",
       "      <td>-</td>\n",
       "      <td>-</td>\n",
       "    </tr>\n",
       "    <tr>\n",
       "      <th>5725</th>\n",
       "      <td>LAT363+2.p</td>\n",
       "      <td>F</td>\n",
       "      <td>-</td>\n",
       "      <td>unknown</td>\n",
       "      <td>1.2</td>\n",
       "      <td>-</td>\n",
       "      <td>-</td>\n",
       "      <td>-</td>\n",
       "      <td>-</td>\n",
       "      <td>-</td>\n",
       "      <td>-</td>\n",
       "      <td>-</td>\n",
       "      <td>-</td>\n",
       "      <td>-</td>\n",
       "      <td>-</td>\n",
       "    </tr>\n",
       "    <tr>\n",
       "      <th>16093</th>\n",
       "      <td>TOP048+4.p</td>\n",
       "      <td>F</td>\n",
       "      <td>-</td>\n",
       "      <td>unknown</td>\n",
       "      <td>1.2</td>\n",
       "      <td>-</td>\n",
       "      <td>-</td>\n",
       "      <td>-</td>\n",
       "      <td>-</td>\n",
       "      <td>-</td>\n",
       "      <td>-</td>\n",
       "      <td>-</td>\n",
       "      <td>-</td>\n",
       "      <td>-</td>\n",
       "      <td>-</td>\n",
       "    </tr>\n",
       "  </tbody>\n",
       "</table>\n",
       "<p>16094 rows × 15 columns</p>\n",
       "</div>"
      ],
      "text/plain": [
       "          Problem Status Usertime  Failure  Version Preprocessingtime  \\\n",
       "13131  SWV194+1.p      T   99.852  success      1.2                 -   \n",
       "5358   LAT261-1.p      T   99.759  success      1.2                 -   \n",
       "11919  SWB011+1.p      T   99.539  success      1.2                 -   \n",
       "5094   LAT005-2.p      T   98.176  success      1.2                 -   \n",
       "2021   FLD021-3.p      T   97.506  success      1.2                 -   \n",
       "...           ...    ...      ...      ...      ...               ...   \n",
       "5722   LAT362+3.p      F        -  unknown      1.2                 -   \n",
       "5723   LAT362+4.p      F        -  unknown      1.2                 -   \n",
       "5724   LAT363+1.p      F        -  unknown      1.2                 -   \n",
       "5725   LAT363+2.p      F        -  unknown      1.2                 -   \n",
       "16093  TOP048+4.p      F        -  unknown      1.2                 -   \n",
       "\n",
       "      Backward_subsumed Factors_computed Forward_subsumed Initial_clauses  \\\n",
       "13131                 4                1             1960             357   \n",
       "5358                 12                5             5673            3038   \n",
       "11919                25              198             4675            1281   \n",
       "5094                 55                0             4391              31   \n",
       "2021                  6                8               96              30   \n",
       "...                 ...              ...              ...             ...   \n",
       "5722                  -                -                -               -   \n",
       "5723                  -                -                -               -   \n",
       "5724                  -                -                -               -   \n",
       "5725                  -                -                -               -   \n",
       "16093                 -                -                -               -   \n",
       "\n",
       "      Processed_clauses Resolvents_computed Systemtime Tautologies_deleted  \\\n",
       "13131              2166               98975      0.371                   2   \n",
       "5358               3687               61459      0.138                  72   \n",
       "11919              3675               43267      0.120                  58   \n",
       "5094               3966                9397      0.032                 339   \n",
       "2021               1970              277716      0.371                  10   \n",
       "...                 ...                 ...        ...                 ...   \n",
       "5722                  -                   -          -                   -   \n",
       "5723                  -                   -          -                   -   \n",
       "5724                  -                   -          -                   -   \n",
       "5725                  -                   -          -                   -   \n",
       "16093                 -                   -          -                   -   \n",
       "\n",
       "      Totaltime  \n",
       "13131   100.223  \n",
       "5358     99.897  \n",
       "11919    99.659  \n",
       "5094     98.208  \n",
       "2021     97.877  \n",
       "...         ...  \n",
       "5722          -  \n",
       "5723          -  \n",
       "5724          -  \n",
       "5725          -  \n",
       "16093         -  \n",
       "\n",
       "[16094 rows x 15 columns]"
      ]
     },
     "execution_count": 8,
     "metadata": {},
     "output_type": "execute_result"
    }
   ],
   "source": [
    "df_tptp_pyres = pd.read_csv(\n",
    "    \"../notes/meeting/protocol_default.csv\",\n",
    "    comment=\"#\",\n",
    "    sep='\\\\s+')\n",
    "df_tptp_pyres[\"Usertime\"] = df_tptp_pyres[\"Usertime\"].round(decimals=0)\n",
    "df_tptp_pyres = df_tptp_pyres.sort_values(\"Usertime\", ascending=False)\n",
    "\n",
    "df_tptp_pyres"
   ]
  },
  {
   "cell_type": "markdown",
   "metadata": {},
   "source": [
    "### Data source 2: TPTP problem files"
   ]
  },
  {
   "cell_type": "markdown",
   "metadata": {},
   "source": [
    "#### Step 1: Gather data"
   ]
  },
  {
   "cell_type": "code",
   "execution_count": 12,
   "metadata": {},
   "outputs": [
    {
     "data": {
      "text/html": [
       "<div>\n",
       "<style scoped>\n",
       "    .dataframe tbody tr th:only-of-type {\n",
       "        vertical-align: middle;\n",
       "    }\n",
       "\n",
       "    .dataframe tbody tr th {\n",
       "        vertical-align: top;\n",
       "    }\n",
       "\n",
       "    .dataframe thead th {\n",
       "        text-align: right;\n",
       "    }\n",
       "</style>\n",
       "<table border=\"1\" class=\"dataframe\">\n",
       "  <thead>\n",
       "    <tr style=\"text-align: right;\">\n",
       "      <th></th>\n",
       "      <th>Problem</th>\n",
       "      <th>spc</th>\n",
       "      <th>n_formulae</th>\n",
       "      <th>n_atoms</th>\n",
       "      <th>n_clauses</th>\n",
       "      <th>n_literals</th>\n",
       "      <th>n_variables</th>\n",
       "      <th>full_file_name</th>\n",
       "    </tr>\n",
       "  </thead>\n",
       "  <tbody>\n",
       "    <tr>\n",
       "      <th>0</th>\n",
       "      <td>TOP036+4.p</td>\n",
       "      <td>FOF_THM_RFO_SEQ</td>\n",
       "      <td>34431.0</td>\n",
       "      <td>241872.0</td>\n",
       "      <td>NaN</td>\n",
       "      <td>NaN</td>\n",
       "      <td>94759.0</td>\n",
       "      <td>TPTP-v9.0.0/Problems/TOP/TOP036+4.p</td>\n",
       "    </tr>\n",
       "    <tr>\n",
       "      <th>1</th>\n",
       "      <td>TOP029+1.p</td>\n",
       "      <td>FOF_THM_RFO_SEQ</td>\n",
       "      <td>109.0</td>\n",
       "      <td>569.0</td>\n",
       "      <td>NaN</td>\n",
       "      <td>NaN</td>\n",
       "      <td>184.0</td>\n",
       "      <td>TPTP-v9.0.0/Problems/TOP/TOP029+1.p</td>\n",
       "    </tr>\n",
       "    <tr>\n",
       "      <th>2</th>\n",
       "      <td>TOP042+3.p</td>\n",
       "      <td>FOF_THM_RFO_SEQ</td>\n",
       "      <td>13534.0</td>\n",
       "      <td>83921.0</td>\n",
       "      <td>NaN</td>\n",
       "      <td>NaN</td>\n",
       "      <td>33628.0</td>\n",
       "      <td>TPTP-v9.0.0/Problems/TOP/TOP042+3.p</td>\n",
       "    </tr>\n",
       "    <tr>\n",
       "      <th>3</th>\n",
       "      <td>TOP008-1.p</td>\n",
       "      <td>CNF_SAT_RFO_NEQ</td>\n",
       "      <td>NaN</td>\n",
       "      <td>NaN</td>\n",
       "      <td>112.0</td>\n",
       "      <td>339.0</td>\n",
       "      <td>357.0</td>\n",
       "      <td>TPTP-v9.0.0/Problems/TOP/TOP008-1.p</td>\n",
       "    </tr>\n",
       "    <tr>\n",
       "      <th>4</th>\n",
       "      <td>TOP009-1.p</td>\n",
       "      <td>CNF_SAT_RFO_NEQ</td>\n",
       "      <td>NaN</td>\n",
       "      <td>NaN</td>\n",
       "      <td>112.0</td>\n",
       "      <td>339.0</td>\n",
       "      <td>357.0</td>\n",
       "      <td>TPTP-v9.0.0/Problems/TOP/TOP009-1.p</td>\n",
       "    </tr>\n",
       "    <tr>\n",
       "      <th>...</th>\n",
       "      <td>...</td>\n",
       "      <td>...</td>\n",
       "      <td>...</td>\n",
       "      <td>...</td>\n",
       "      <td>...</td>\n",
       "      <td>...</td>\n",
       "      <td>...</td>\n",
       "      <td>...</td>\n",
       "    </tr>\n",
       "    <tr>\n",
       "      <th>26272</th>\n",
       "      <td>MED007+1.p</td>\n",
       "      <td>FOF_THM_RFO_NEQ</td>\n",
       "      <td>41.0</td>\n",
       "      <td>201.0</td>\n",
       "      <td>NaN</td>\n",
       "      <td>NaN</td>\n",
       "      <td>96.0</td>\n",
       "      <td>TPTP-v9.0.0/Problems/MED/MED007+1.p</td>\n",
       "    </tr>\n",
       "    <tr>\n",
       "      <th>26273</th>\n",
       "      <td>MED006+1.p</td>\n",
       "      <td>FOF_THM_RFO_NEQ</td>\n",
       "      <td>41.0</td>\n",
       "      <td>197.0</td>\n",
       "      <td>NaN</td>\n",
       "      <td>NaN</td>\n",
       "      <td>95.0</td>\n",
       "      <td>TPTP-v9.0.0/Problems/MED/MED006+1.p</td>\n",
       "    </tr>\n",
       "    <tr>\n",
       "      <th>26274</th>\n",
       "      <td>MED012+1.p</td>\n",
       "      <td>FOF_SAT_RFO_NEQ</td>\n",
       "      <td>40.0</td>\n",
       "      <td>190.0</td>\n",
       "      <td>NaN</td>\n",
       "      <td>NaN</td>\n",
       "      <td>93.0</td>\n",
       "      <td>TPTP-v9.0.0/Problems/MED/MED012+1.p</td>\n",
       "    </tr>\n",
       "    <tr>\n",
       "      <th>26275</th>\n",
       "      <td>MED008+1.p</td>\n",
       "      <td>FOF_THM_RFO_NEQ</td>\n",
       "      <td>41.0</td>\n",
       "      <td>197.0</td>\n",
       "      <td>NaN</td>\n",
       "      <td>NaN</td>\n",
       "      <td>95.0</td>\n",
       "      <td>TPTP-v9.0.0/Problems/MED/MED008+1.p</td>\n",
       "    </tr>\n",
       "    <tr>\n",
       "      <th>26276</th>\n",
       "      <td>MED009+1.p</td>\n",
       "      <td>FOF_THM_RFO_NEQ</td>\n",
       "      <td>41.0</td>\n",
       "      <td>201.0</td>\n",
       "      <td>NaN</td>\n",
       "      <td>NaN</td>\n",
       "      <td>96.0</td>\n",
       "      <td>TPTP-v9.0.0/Problems/MED/MED009+1.p</td>\n",
       "    </tr>\n",
       "  </tbody>\n",
       "</table>\n",
       "<p>26277 rows × 8 columns</p>\n",
       "</div>"
      ],
      "text/plain": [
       "          Problem               spc  n_formulae   n_atoms  n_clauses  \\\n",
       "0      TOP036+4.p   FOF_THM_RFO_SEQ     34431.0  241872.0        NaN   \n",
       "1      TOP029+1.p   FOF_THM_RFO_SEQ       109.0     569.0        NaN   \n",
       "2      TOP042+3.p   FOF_THM_RFO_SEQ     13534.0   83921.0        NaN   \n",
       "3      TOP008-1.p   CNF_SAT_RFO_NEQ         NaN       NaN      112.0   \n",
       "4      TOP009-1.p   CNF_SAT_RFO_NEQ         NaN       NaN      112.0   \n",
       "...           ...               ...         ...       ...        ...   \n",
       "26272  MED007+1.p   FOF_THM_RFO_NEQ        41.0     201.0        NaN   \n",
       "26273  MED006+1.p   FOF_THM_RFO_NEQ        41.0     197.0        NaN   \n",
       "26274  MED012+1.p   FOF_SAT_RFO_NEQ        40.0     190.0        NaN   \n",
       "26275  MED008+1.p   FOF_THM_RFO_NEQ        41.0     197.0        NaN   \n",
       "26276  MED009+1.p   FOF_THM_RFO_NEQ        41.0     201.0        NaN   \n",
       "\n",
       "       n_literals  n_variables                       full_file_name  \n",
       "0             NaN      94759.0  TPTP-v9.0.0/Problems/TOP/TOP036+4.p  \n",
       "1             NaN        184.0  TPTP-v9.0.0/Problems/TOP/TOP029+1.p  \n",
       "2             NaN      33628.0  TPTP-v9.0.0/Problems/TOP/TOP042+3.p  \n",
       "3           339.0        357.0  TPTP-v9.0.0/Problems/TOP/TOP008-1.p  \n",
       "4           339.0        357.0  TPTP-v9.0.0/Problems/TOP/TOP009-1.p  \n",
       "...           ...          ...                                  ...  \n",
       "26272         NaN         96.0  TPTP-v9.0.0/Problems/MED/MED007+1.p  \n",
       "26273         NaN         95.0  TPTP-v9.0.0/Problems/MED/MED006+1.p  \n",
       "26274         NaN         93.0  TPTP-v9.0.0/Problems/MED/MED012+1.p  \n",
       "26275         NaN         95.0  TPTP-v9.0.0/Problems/MED/MED008+1.p  \n",
       "26276         NaN         96.0  TPTP-v9.0.0/Problems/MED/MED009+1.p  \n",
       "\n",
       "[26277 rows x 8 columns]"
      ]
     },
     "execution_count": 12,
     "metadata": {},
     "output_type": "execute_result"
    }
   ],
   "source": [
    "load_from_file = True\n",
    "store = False\n",
    "if load_from_file:\n",
    "    df_tptp = pd.read_csv(\"../src/all_problems.csv\", index_col=0)\n",
    "else:\n",
    "    patterns = {\n",
    "        \"spc\": r\"(?<=% SPC      :)(\\s+\\w+)\",\n",
    "        \"n_formulae\": r\"(?<=formulae    :)(\\s+\\d+)\",\n",
    "        \"n_atoms\": r\"(?<=atoms       :)(\\s+\\d+)\",\n",
    "        \"n_clauses\": r\"(?<=clauses     :)(\\s+\\d+)\",\n",
    "        \"n_literals\": r\"(?<=literals    :)(\\s+\\d+)\",\n",
    "        \"n_variables\": r\"(?<=variables   :)(\\s+\\d+)\",\n",
    "    }\n",
    "    problem_configs = []\n",
    "\n",
    "    problems_dir = \"TPTP-v9.0.0/Problems/\"\n",
    "    dir_list = os.listdir(problems_dir)\n",
    "    for dir_name in tqdm(dir_list, total=len(dir_list)):\n",
    "        full_dir_name = os.path.join(problems_dir, dir_name)\n",
    "        downloads_list = os.listdir(full_dir_name)\n",
    "        for dir_name in downloads_list:\n",
    "            full_file_name = os.path.join(full_dir_name, dir_name)\n",
    "            if not os.path.isfile(full_file_name):\n",
    "                continue\n",
    "            with open(full_file_name) as full_file_name:\n",
    "                s_mp_runs = full_file_name.read()\n",
    "                problem_results: dict = {\n",
    "                    \"Problem\": dir_name,\n",
    "                }\n",
    "                for identifier, pattern in patterns.items():\n",
    "                    re_match = re.search(pattern, s_mp_runs)\n",
    "                    problem_results[identifier] = re_match.group(0) if re_match is not None else None\n",
    "                problem_results[\"full_file_name\"] = full_file_name.name\n",
    "                problem_configs.append(problem_results)\n",
    "\n",
    "    df_tptp = pd.DataFrame.from_records(problem_configs)\n",
    "df_tptp = df_tptp.fillna(value=np.nan)\n",
    "if store:\n",
    "    df_tptp.to_csv(\"../src/all_problems.csv\")\n",
    "\n",
    "\n",
    "df_tptp"
   ]
  },
  {
   "cell_type": "code",
   "execution_count": 13,
   "metadata": {},
   "outputs": [
    {
     "data": {
      "image/png": "[encoded data removed]",
      "text/plain": [
       "<Figure size 640x480 with 4 Axes>"
      ]
     },
     "metadata": {},
     "output_type": "display_data"
    }
   ],
   "source": [
    "import matplotlib.pyplot as plt\n",
    "(\n",
    "    df_tptp\n",
    "    [[\"n_formulae\", \"n_atoms\", \"n_variables\", \"n_literals\"]]\n",
    "    .apply(lambda x: x[x.notnull() & x.notna()])\n",
    "    .astype(float)\n",
    "    .plot(kind=\"box\", subplots=True, layout=(2,2), logy=True)\n",
    ")\n",
    "plt.tight_layout()\n"
   ]
  },
  {
   "cell_type": "markdown",
   "metadata": {},
   "source": [
    "#### Step 2: Filter data"
   ]
  },
  {
   "cell_type": "code",
   "execution_count": 14,
   "metadata": {},
   "outputs": [
    {
     "data": {
      "text/html": [
       "<div>\n",
       "<style scoped>\n",
       "    .dataframe tbody tr th:only-of-type {\n",
       "        vertical-align: middle;\n",
       "    }\n",
       "\n",
       "    .dataframe tbody tr th {\n",
       "        vertical-align: top;\n",
       "    }\n",
       "\n",
       "    .dataframe thead th {\n",
       "        text-align: right;\n",
       "    }\n",
       "</style>\n",
       "<table border=\"1\" class=\"dataframe\">\n",
       "  <thead>\n",
       "    <tr style=\"text-align: right;\">\n",
       "      <th></th>\n",
       "      <th>Problem</th>\n",
       "      <th>spc</th>\n",
       "      <th>n_formulae</th>\n",
       "      <th>n_atoms</th>\n",
       "      <th>n_clauses</th>\n",
       "      <th>n_literals</th>\n",
       "      <th>n_variables</th>\n",
       "      <th>full_file_name</th>\n",
       "    </tr>\n",
       "  </thead>\n",
       "  <tbody>\n",
       "    <tr>\n",
       "      <th>1547</th>\n",
       "      <td>NLP262+1.p</td>\n",
       "      <td>FOF_THM_RFO_NEQ</td>\n",
       "      <td>1026861.0</td>\n",
       "      <td>1026865.0</td>\n",
       "      <td>NaN</td>\n",
       "      <td>NaN</td>\n",
       "      <td>7.0</td>\n",
       "      <td>TPTP-v9.0.0/Problems/NLP/NLP262+1.p</td>\n",
       "    </tr>\n",
       "    <tr>\n",
       "      <th>1559</th>\n",
       "      <td>NLP260+1.p</td>\n",
       "      <td>FOF_THM_RFO_NEQ</td>\n",
       "      <td>1026861.0</td>\n",
       "      <td>1026865.0</td>\n",
       "      <td>NaN</td>\n",
       "      <td>NaN</td>\n",
       "      <td>7.0</td>\n",
       "      <td>TPTP-v9.0.0/Problems/NLP/NLP260+1.p</td>\n",
       "    </tr>\n",
       "    <tr>\n",
       "      <th>1556</th>\n",
       "      <td>NLP261+1.p</td>\n",
       "      <td>FOF_THM_RFO_NEQ</td>\n",
       "      <td>1026861.0</td>\n",
       "      <td>1026865.0</td>\n",
       "      <td>NaN</td>\n",
       "      <td>NaN</td>\n",
       "      <td>7.0</td>\n",
       "      <td>TPTP-v9.0.0/Problems/NLP/NLP261+1.p</td>\n",
       "    </tr>\n",
       "    <tr>\n",
       "      <th>1551</th>\n",
       "      <td>NLP263+1.p</td>\n",
       "      <td>FOF_SAT_RFO_NEQ</td>\n",
       "      <td>1026857.0</td>\n",
       "      <td>1026857.0</td>\n",
       "      <td>NaN</td>\n",
       "      <td>NaN</td>\n",
       "      <td>0.0</td>\n",
       "      <td>TPTP-v9.0.0/Problems/NLP/NLP263+1.p</td>\n",
       "    </tr>\n",
       "    <tr>\n",
       "      <th>1936</th>\n",
       "      <td>MED011+1.p</td>\n",
       "      <td>FOF_SAT_RFO_NEQ</td>\n",
       "      <td>568530.0</td>\n",
       "      <td>568530.0</td>\n",
       "      <td>NaN</td>\n",
       "      <td>NaN</td>\n",
       "      <td>0.0</td>\n",
       "      <td>TPTP-v9.0.0/Problems/MED/MED011+1.p</td>\n",
       "    </tr>\n",
       "    <tr>\n",
       "      <th>...</th>\n",
       "      <td>...</td>\n",
       "      <td>...</td>\n",
       "      <td>...</td>\n",
       "      <td>...</td>\n",
       "      <td>...</td>\n",
       "      <td>...</td>\n",
       "      <td>...</td>\n",
       "      <td>...</td>\n",
       "    </tr>\n",
       "    <tr>\n",
       "      <th>1025</th>\n",
       "      <td>SYN504+1.p</td>\n",
       "      <td>FOF_THM_EPR_NEQ</td>\n",
       "      <td>1.0</td>\n",
       "      <td>773.0</td>\n",
       "      <td>NaN</td>\n",
       "      <td>NaN</td>\n",
       "      <td>126.0</td>\n",
       "      <td>TPTP-v9.0.0/Problems/SYN/SYN504+1.p</td>\n",
       "    </tr>\n",
       "    <tr>\n",
       "      <th>1024</th>\n",
       "      <td>SYN510+1.p</td>\n",
       "      <td>FOF_THM_EPR_NEQ</td>\n",
       "      <td>1.0</td>\n",
       "      <td>720.0</td>\n",
       "      <td>NaN</td>\n",
       "      <td>NaN</td>\n",
       "      <td>107.0</td>\n",
       "      <td>TPTP-v9.0.0/Problems/SYN/SYN510+1.p</td>\n",
       "    </tr>\n",
       "    <tr>\n",
       "      <th>1023</th>\n",
       "      <td>SYN048+1.p</td>\n",
       "      <td>FOF_THM_EPR_NEQ</td>\n",
       "      <td>1.0</td>\n",
       "      <td>2.0</td>\n",
       "      <td>NaN</td>\n",
       "      <td>NaN</td>\n",
       "      <td>2.0</td>\n",
       "      <td>TPTP-v9.0.0/Problems/SYN/SYN048+1.p</td>\n",
       "    </tr>\n",
       "    <tr>\n",
       "      <th>1021</th>\n",
       "      <td>SYN921+1.p</td>\n",
       "      <td>FOF_THM_EPR_NEQ</td>\n",
       "      <td>1.0</td>\n",
       "      <td>4.0</td>\n",
       "      <td>NaN</td>\n",
       "      <td>NaN</td>\n",
       "      <td>2.0</td>\n",
       "      <td>TPTP-v9.0.0/Problems/SYN/SYN921+1.p</td>\n",
       "    </tr>\n",
       "    <tr>\n",
       "      <th>971</th>\n",
       "      <td>SYN463+1.p</td>\n",
       "      <td>FOF_CSA_EPR_NEQ</td>\n",
       "      <td>1.0</td>\n",
       "      <td>596.0</td>\n",
       "      <td>NaN</td>\n",
       "      <td>NaN</td>\n",
       "      <td>89.0</td>\n",
       "      <td>TPTP-v9.0.0/Problems/SYN/SYN463+1.p</td>\n",
       "    </tr>\n",
       "  </tbody>\n",
       "</table>\n",
       "<p>1943 rows × 8 columns</p>\n",
       "</div>"
      ],
      "text/plain": [
       "         Problem               spc  n_formulae    n_atoms  n_clauses  \\\n",
       "1547  NLP262+1.p   FOF_THM_RFO_NEQ   1026861.0  1026865.0        NaN   \n",
       "1559  NLP260+1.p   FOF_THM_RFO_NEQ   1026861.0  1026865.0        NaN   \n",
       "1556  NLP261+1.p   FOF_THM_RFO_NEQ   1026861.0  1026865.0        NaN   \n",
       "1551  NLP263+1.p   FOF_SAT_RFO_NEQ   1026857.0  1026857.0        NaN   \n",
       "1936  MED011+1.p   FOF_SAT_RFO_NEQ    568530.0   568530.0        NaN   \n",
       "...          ...               ...         ...        ...        ...   \n",
       "1025  SYN504+1.p   FOF_THM_EPR_NEQ         1.0      773.0        NaN   \n",
       "1024  SYN510+1.p   FOF_THM_EPR_NEQ         1.0      720.0        NaN   \n",
       "1023  SYN048+1.p   FOF_THM_EPR_NEQ         1.0        2.0        NaN   \n",
       "1021  SYN921+1.p   FOF_THM_EPR_NEQ         1.0        4.0        NaN   \n",
       "971   SYN463+1.p   FOF_CSA_EPR_NEQ         1.0      596.0        NaN   \n",
       "\n",
       "      n_literals  n_variables                       full_file_name  \n",
       "1547         NaN          7.0  TPTP-v9.0.0/Problems/NLP/NLP262+1.p  \n",
       "1559         NaN          7.0  TPTP-v9.0.0/Problems/NLP/NLP260+1.p  \n",
       "1556         NaN          7.0  TPTP-v9.0.0/Problems/NLP/NLP261+1.p  \n",
       "1551         NaN          0.0  TPTP-v9.0.0/Problems/NLP/NLP263+1.p  \n",
       "1936         NaN          0.0  TPTP-v9.0.0/Problems/MED/MED011+1.p  \n",
       "...          ...          ...                                  ...  \n",
       "1025         NaN        126.0  TPTP-v9.0.0/Problems/SYN/SYN504+1.p  \n",
       "1024         NaN        107.0  TPTP-v9.0.0/Problems/SYN/SYN510+1.p  \n",
       "1023         NaN          2.0  TPTP-v9.0.0/Problems/SYN/SYN048+1.p  \n",
       "1021         NaN          2.0  TPTP-v9.0.0/Problems/SYN/SYN921+1.p  \n",
       "971          NaN         89.0  TPTP-v9.0.0/Problems/SYN/SYN463+1.p  \n",
       "\n",
       "[1943 rows x 8 columns]"
      ]
     },
     "execution_count": 14,
     "metadata": {},
     "output_type": "execute_result"
    }
   ],
   "source": [
    "(\n",
    "    df_tptp\n",
    "    [ df_tptp[\"Problem\"].str.contains(\"\\\\+|\\\\-\", regex=True)\n",
    "    & df_tptp[\"spc\"].str.contains(\"NEQ\")\n",
    "    & df_tptp[\"n_formulae\"].notna()\n",
    "    & df_tptp[\"n_atoms\"].notna() ]\n",
    "    .reset_index(drop=True)\n",
    "    .sort_values(by=\"n_formulae\", ascending=False)\n",
    ")"
   ]
  },
  {
   "cell_type": "markdown",
   "metadata": {},
   "source": [
    "### General Starexec output stuff"
   ]
  },
  {
   "cell_type": "markdown",
   "metadata": {},
   "source": [
    "#### Move problem outputs from Downloads to project"
   ]
  },
  {
   "cell_type": "code",
   "execution_count": 2,
   "metadata": {},
   "outputs": [
    {
     "name": "stderr",
     "output_type": "stream",
     "text": [
      "0it [00:00, ?it/s]"
     ]
    },
    {
     "name": "stdout",
     "output_type": "stream",
     "text": [
      "Moved 0 folders.\n"
     ]
    },
    {
     "name": "stderr",
     "output_type": "stream",
     "text": [
      "\n"
     ]
    }
   ],
   "source": [
    "import shutil\n",
    "\n",
    "source_dir = str(notebook_dir.parents[2]) + \"/Downloads/\"\n",
    "downloads_list = os.listdir(source_dir)\n",
    "is_problem = re.compile(r'Job\\d+_output*')\n",
    "problem_outputs = [d for d in downloads_list if is_problem.match(d)]\n",
    "\n",
    "destination = os.path.join(notebook_dir, \"starexec_outputs\")\n",
    "problem_folder = os.path.join(destination, \"Job5010_output/\")\n",
    "\n",
    "for dir_name in tqdm(problem_outputs):\n",
    "    full_dirname = os.path.join(source_dir, dir_name)\n",
    "    shutil.copytree(full_dirname, destination, dirs_exist_ok=True)\n",
    "    shutil.rmtree(full_dirname)\n",
    "\n",
    "print(f\"Moved {len(problem_outputs)} folders.\")\n"
   ]
  },
  {
   "cell_type": "markdown",
   "metadata": {},
   "source": [
    "### Data source 3: StarExec csv output"
   ]
  },
  {
   "cell_type": "code",
   "execution_count": 3,
   "metadata": {},
   "outputs": [
    {
     "data": {
      "text/html": [
       "<div>\n",
       "<style scoped>\n",
       "    .dataframe tbody tr th:only-of-type {\n",
       "        vertical-align: middle;\n",
       "    }\n",
       "\n",
       "    .dataframe tbody tr th {\n",
       "        vertical-align: top;\n",
       "    }\n",
       "\n",
       "    .dataframe thead th {\n",
       "        text-align: right;\n",
       "    }\n",
       "</style>\n",
       "<table border=\"1\" class=\"dataframe\">\n",
       "  <thead>\n",
       "    <tr style=\"text-align: right;\">\n",
       "      <th></th>\n",
       "      <th>pair id</th>\n",
       "      <th>benchmark</th>\n",
       "      <th>benchmark id</th>\n",
       "      <th>solver</th>\n",
       "      <th>solver id</th>\n",
       "      <th>configuration</th>\n",
       "      <th>configuration id</th>\n",
       "      <th>status</th>\n",
       "      <th>cpu time</th>\n",
       "      <th>wallclock time</th>\n",
       "      <th>memory usage</th>\n",
       "      <th>result</th>\n",
       "      <th>expected</th>\n",
       "      <th>SZSResult</th>\n",
       "      <th>SZSOutput</th>\n",
       "      <th>SZSStatus</th>\n",
       "    </tr>\n",
       "  </thead>\n",
       "  <tbody>\n",
       "    <tr>\n",
       "      <th>0</th>\n",
       "      <td>124991892</td>\n",
       "      <td>jannis_gehring/TPTP v9.0.0/Problems/KRS/KRS001...</td>\n",
       "      <td>4176249</td>\n",
       "      <td>pyres_correct_szs</td>\n",
       "      <td>3675</td>\n",
       "      <td>PyRes_default</td>\n",
       "      <td>398193</td>\n",
       "      <td>complete</td>\n",
       "      <td>1.961070</td>\n",
       "      <td>0.892533</td>\n",
       "      <td>323432.0</td>\n",
       "      <td>Unsatisfiable</td>\n",
       "      <td>Unsatisfiable</td>\n",
       "      <td>UNS-Ass</td>\n",
       "      <td>Ass</td>\n",
       "      <td>UNS</td>\n",
       "    </tr>\n",
       "    <tr>\n",
       "      <th>1</th>\n",
       "      <td>124991893</td>\n",
       "      <td>jannis_gehring/TPTP v9.0.0/Problems/KRS/KRS002...</td>\n",
       "      <td>4176250</td>\n",
       "      <td>pyres_correct_szs</td>\n",
       "      <td>3675</td>\n",
       "      <td>PyRes_default</td>\n",
       "      <td>398193</td>\n",
       "      <td>complete</td>\n",
       "      <td>2.883700</td>\n",
       "      <td>1.047470</td>\n",
       "      <td>323432.0</td>\n",
       "      <td>Unsatisfiable</td>\n",
       "      <td>Unsatisfiable</td>\n",
       "      <td>UNS-Ass</td>\n",
       "      <td>Ass</td>\n",
       "      <td>UNS</td>\n",
       "    </tr>\n",
       "    <tr>\n",
       "      <th>2</th>\n",
       "      <td>124991894</td>\n",
       "      <td>jannis_gehring/TPTP v9.0.0/Problems/KRS/KRS003...</td>\n",
       "      <td>4176251</td>\n",
       "      <td>pyres_correct_szs</td>\n",
       "      <td>3675</td>\n",
       "      <td>PyRes_default</td>\n",
       "      <td>398193</td>\n",
       "      <td>complete</td>\n",
       "      <td>0.149423</td>\n",
       "      <td>0.131315</td>\n",
       "      <td>119284.0</td>\n",
       "      <td>Inappropriate</td>\n",
       "      <td>Satisfiable</td>\n",
       "      <td>IAP-Non</td>\n",
       "      <td>Non</td>\n",
       "      <td>IAP</td>\n",
       "    </tr>\n",
       "    <tr>\n",
       "      <th>3</th>\n",
       "      <td>124991895</td>\n",
       "      <td>jannis_gehring/TPTP v9.0.0/Problems/KRS/KRS003...</td>\n",
       "      <td>4176252</td>\n",
       "      <td>pyres_correct_szs</td>\n",
       "      <td>3675</td>\n",
       "      <td>PyRes_default</td>\n",
       "      <td>398193</td>\n",
       "      <td>complete</td>\n",
       "      <td>0.152747</td>\n",
       "      <td>0.134231</td>\n",
       "      <td>119284.0</td>\n",
       "      <td>Inappropriate</td>\n",
       "      <td>Theorem</td>\n",
       "      <td>IAP-Non</td>\n",
       "      <td>Non</td>\n",
       "      <td>IAP</td>\n",
       "    </tr>\n",
       "    <tr>\n",
       "      <th>4</th>\n",
       "      <td>124991896</td>\n",
       "      <td>jannis_gehring/TPTP v9.0.0/Problems/KRS/KRS003...</td>\n",
       "      <td>4176253</td>\n",
       "      <td>pyres_correct_szs</td>\n",
       "      <td>3675</td>\n",
       "      <td>PyRes_default</td>\n",
       "      <td>398193</td>\n",
       "      <td>complete</td>\n",
       "      <td>2.303760</td>\n",
       "      <td>0.808196</td>\n",
       "      <td>4609600.0</td>\n",
       "      <td>Unsatisfiable</td>\n",
       "      <td>Unsatisfiable</td>\n",
       "      <td>UNS-Ass</td>\n",
       "      <td>Ass</td>\n",
       "      <td>UNS</td>\n",
       "    </tr>\n",
       "    <tr>\n",
       "      <th>...</th>\n",
       "      <td>...</td>\n",
       "      <td>...</td>\n",
       "      <td>...</td>\n",
       "      <td>...</td>\n",
       "      <td>...</td>\n",
       "      <td>...</td>\n",
       "      <td>...</td>\n",
       "      <td>...</td>\n",
       "      <td>...</td>\n",
       "      <td>...</td>\n",
       "      <td>...</td>\n",
       "      <td>...</td>\n",
       "      <td>...</td>\n",
       "      <td>...</td>\n",
       "      <td>...</td>\n",
       "      <td>...</td>\n",
       "    </tr>\n",
       "    <tr>\n",
       "      <th>12361</th>\n",
       "      <td>125004253</td>\n",
       "      <td>jannis_gehring/TPTP v9.0.0/Problems/KLE/KLE178...</td>\n",
       "      <td>4176244</td>\n",
       "      <td>pyres_correct_szs</td>\n",
       "      <td>3675</td>\n",
       "      <td>PyRes_default</td>\n",
       "      <td>398193</td>\n",
       "      <td>complete</td>\n",
       "      <td>3.529780</td>\n",
       "      <td>1.193690</td>\n",
       "      <td>3308436.0</td>\n",
       "      <td>GaveUp</td>\n",
       "      <td>Satisfiable</td>\n",
       "      <td>GUP-Non</td>\n",
       "      <td>Non</td>\n",
       "      <td>GUP</td>\n",
       "    </tr>\n",
       "    <tr>\n",
       "      <th>12362</th>\n",
       "      <td>125004254</td>\n",
       "      <td>jannis_gehring/TPTP v9.0.0/Problems/KLE/KLE179...</td>\n",
       "      <td>4176245</td>\n",
       "      <td>pyres_correct_szs</td>\n",
       "      <td>3675</td>\n",
       "      <td>PyRes_default</td>\n",
       "      <td>398193</td>\n",
       "      <td>complete</td>\n",
       "      <td>15.547600</td>\n",
       "      <td>2.665890</td>\n",
       "      <td>14025012.0</td>\n",
       "      <td>GaveUp</td>\n",
       "      <td>Satisfiable</td>\n",
       "      <td>GUP-Non</td>\n",
       "      <td>Non</td>\n",
       "      <td>GUP</td>\n",
       "    </tr>\n",
       "    <tr>\n",
       "      <th>12363</th>\n",
       "      <td>125004255</td>\n",
       "      <td>jannis_gehring/TPTP v9.0.0/Problems/KLE/KLE180...</td>\n",
       "      <td>4176246</td>\n",
       "      <td>pyres_correct_szs</td>\n",
       "      <td>3675</td>\n",
       "      <td>PyRes_default</td>\n",
       "      <td>398193</td>\n",
       "      <td>complete</td>\n",
       "      <td>23.746100</td>\n",
       "      <td>4.179700</td>\n",
       "      <td>15034988.0</td>\n",
       "      <td>GaveUp</td>\n",
       "      <td>Satisfiable</td>\n",
       "      <td>GUP-Non</td>\n",
       "      <td>Non</td>\n",
       "      <td>GUP</td>\n",
       "    </tr>\n",
       "    <tr>\n",
       "      <th>12364</th>\n",
       "      <td>125004256</td>\n",
       "      <td>jannis_gehring/TPTP v9.0.0/Problems/KLE/KLE181...</td>\n",
       "      <td>4176247</td>\n",
       "      <td>pyres_correct_szs</td>\n",
       "      <td>3675</td>\n",
       "      <td>PyRes_default</td>\n",
       "      <td>398193</td>\n",
       "      <td>complete</td>\n",
       "      <td>3.978340</td>\n",
       "      <td>1.149640</td>\n",
       "      <td>2809748.0</td>\n",
       "      <td>GaveUp</td>\n",
       "      <td>Satisfiable</td>\n",
       "      <td>GUP-Non</td>\n",
       "      <td>Non</td>\n",
       "      <td>GUP</td>\n",
       "    </tr>\n",
       "    <tr>\n",
       "      <th>12365</th>\n",
       "      <td>125004257</td>\n",
       "      <td>jannis_gehring/TPTP v9.0.0/Problems/KLE/KLE182...</td>\n",
       "      <td>4176248</td>\n",
       "      <td>pyres_correct_szs</td>\n",
       "      <td>3675</td>\n",
       "      <td>PyRes_default</td>\n",
       "      <td>398193</td>\n",
       "      <td>complete</td>\n",
       "      <td>3.420290</td>\n",
       "      <td>1.124930</td>\n",
       "      <td>2144148.0</td>\n",
       "      <td>GaveUp</td>\n",
       "      <td>Satisfiable</td>\n",
       "      <td>GUP-Non</td>\n",
       "      <td>Non</td>\n",
       "      <td>GUP</td>\n",
       "    </tr>\n",
       "  </tbody>\n",
       "</table>\n",
       "<p>12366 rows × 16 columns</p>\n",
       "</div>"
      ],
      "text/plain": [
       "         pair id                                          benchmark  \\\n",
       "0      124991892  jannis_gehring/TPTP v9.0.0/Problems/KRS/KRS001...   \n",
       "1      124991893  jannis_gehring/TPTP v9.0.0/Problems/KRS/KRS002...   \n",
       "2      124991894  jannis_gehring/TPTP v9.0.0/Problems/KRS/KRS003...   \n",
       "3      124991895  jannis_gehring/TPTP v9.0.0/Problems/KRS/KRS003...   \n",
       "4      124991896  jannis_gehring/TPTP v9.0.0/Problems/KRS/KRS003...   \n",
       "...          ...                                                ...   \n",
       "12361  125004253  jannis_gehring/TPTP v9.0.0/Problems/KLE/KLE178...   \n",
       "12362  125004254  jannis_gehring/TPTP v9.0.0/Problems/KLE/KLE179...   \n",
       "12363  125004255  jannis_gehring/TPTP v9.0.0/Problems/KLE/KLE180...   \n",
       "12364  125004256  jannis_gehring/TPTP v9.0.0/Problems/KLE/KLE181...   \n",
       "12365  125004257  jannis_gehring/TPTP v9.0.0/Problems/KLE/KLE182...   \n",
       "\n",
       "       benchmark id             solver  solver id  configuration  \\\n",
       "0           4176249  pyres_correct_szs       3675  PyRes_default   \n",
       "1           4176250  pyres_correct_szs       3675  PyRes_default   \n",
       "2           4176251  pyres_correct_szs       3675  PyRes_default   \n",
       "3           4176252  pyres_correct_szs       3675  PyRes_default   \n",
       "4           4176253  pyres_correct_szs       3675  PyRes_default   \n",
       "...             ...                ...        ...            ...   \n",
       "12361       4176244  pyres_correct_szs       3675  PyRes_default   \n",
       "12362       4176245  pyres_correct_szs       3675  PyRes_default   \n",
       "12363       4176246  pyres_correct_szs       3675  PyRes_default   \n",
       "12364       4176247  pyres_correct_szs       3675  PyRes_default   \n",
       "12365       4176248  pyres_correct_szs       3675  PyRes_default   \n",
       "\n",
       "       configuration id    status   cpu time  wallclock time  memory usage  \\\n",
       "0                398193  complete   1.961070        0.892533      323432.0   \n",
       "1                398193  complete   2.883700        1.047470      323432.0   \n",
       "2                398193  complete   0.149423        0.131315      119284.0   \n",
       "3                398193  complete   0.152747        0.134231      119284.0   \n",
       "4                398193  complete   2.303760        0.808196     4609600.0   \n",
       "...                 ...       ...        ...             ...           ...   \n",
       "12361            398193  complete   3.529780        1.193690     3308436.0   \n",
       "12362            398193  complete  15.547600        2.665890    14025012.0   \n",
       "12363            398193  complete  23.746100        4.179700    15034988.0   \n",
       "12364            398193  complete   3.978340        1.149640     2809748.0   \n",
       "12365            398193  complete   3.420290        1.124930     2144148.0   \n",
       "\n",
       "              result       expected SZSResult SZSOutput SZSStatus  \n",
       "0      Unsatisfiable  Unsatisfiable   UNS-Ass       Ass       UNS  \n",
       "1      Unsatisfiable  Unsatisfiable   UNS-Ass       Ass       UNS  \n",
       "2      Inappropriate    Satisfiable   IAP-Non       Non       IAP  \n",
       "3      Inappropriate        Theorem   IAP-Non       Non       IAP  \n",
       "4      Unsatisfiable  Unsatisfiable   UNS-Ass       Ass       UNS  \n",
       "...              ...            ...       ...       ...       ...  \n",
       "12361         GaveUp    Satisfiable   GUP-Non       Non       GUP  \n",
       "12362         GaveUp    Satisfiable   GUP-Non       Non       GUP  \n",
       "12363         GaveUp    Satisfiable   GUP-Non       Non       GUP  \n",
       "12364         GaveUp    Satisfiable   GUP-Non       Non       GUP  \n",
       "12365         GaveUp    Satisfiable   GUP-Non       Non       GUP  \n",
       "\n",
       "[12366 rows x 16 columns]"
      ]
     },
     "execution_count": 3,
     "metadata": {},
     "output_type": "execute_result"
    }
   ],
   "source": [
    "df_se_csv = pd.read_csv(problem_folder + \"Job5010_info.csv\")\n",
    "df_se_csv"
   ]
  },
  {
   "cell_type": "markdown",
   "metadata": {},
   "source": [
    "### Data source 4: StarExec individual job files"
   ]
  },
  {
   "cell_type": "markdown",
   "metadata": {},
   "source": [
    "#### Extract texts from files to pandas dataframe"
   ]
  },
  {
   "cell_type": "code",
   "execution_count": 4,
   "metadata": {},
   "outputs": [
    {
     "data": {
      "text/html": [
       "<div>\n",
       "<style scoped>\n",
       "    .dataframe tbody tr th:only-of-type {\n",
       "        vertical-align: middle;\n",
       "    }\n",
       "\n",
       "    .dataframe tbody tr th {\n",
       "        vertical-align: top;\n",
       "    }\n",
       "\n",
       "    .dataframe thead th {\n",
       "        text-align: right;\n",
       "    }\n",
       "</style>\n",
       "<table border=\"1\" class=\"dataframe\">\n",
       "  <thead>\n",
       "    <tr style=\"text-align: right;\">\n",
       "      <th></th>\n",
       "      <th>file_dir_name</th>\n",
       "      <th>text</th>\n",
       "    </tr>\n",
       "  </thead>\n",
       "  <tbody>\n",
       "    <tr>\n",
       "      <th>0</th>\n",
       "      <td>/Users/jannisgehring/VSCode/coursework-pyres/s...</td>\n",
       "      <td>0.05/0.12\\t% Problem    : ITP088^7 : TPTP v9.0...</td>\n",
       "    </tr>\n",
       "    <tr>\n",
       "      <th>1</th>\n",
       "      <td>/Users/jannisgehring/VSCode/coursework-pyres/s...</td>\n",
       "      <td>0.02/0.12\\t% Problem    : ITP069_5 : TPTP v9.0...</td>\n",
       "    </tr>\n",
       "    <tr>\n",
       "      <th>2</th>\n",
       "      <td>/Users/jannisgehring/VSCode/coursework-pyres/s...</td>\n",
       "      <td>0.07/0.09\\t% Problem    : ITP087^4 : TPTP v9.0...</td>\n",
       "    </tr>\n",
       "    <tr>\n",
       "      <th>3</th>\n",
       "      <td>/Users/jannisgehring/VSCode/coursework-pyres/s...</td>\n",
       "      <td>0.03/0.11\\t% Problem    : ITP122^7 : TPTP v9.0...</td>\n",
       "    </tr>\n",
       "    <tr>\n",
       "      <th>4</th>\n",
       "      <td>/Users/jannisgehring/VSCode/coursework-pyres/s...</td>\n",
       "      <td>0.07/0.12\\t% Problem    : ITP068^4 : TPTP v9.0...</td>\n",
       "    </tr>\n",
       "    <tr>\n",
       "      <th>...</th>\n",
       "      <td>...</td>\n",
       "      <td>...</td>\n",
       "    </tr>\n",
       "    <tr>\n",
       "      <th>12361</th>\n",
       "      <td>/Users/jannisgehring/VSCode/coursework-pyres/s...</td>\n",
       "      <td>0.08/0.11\\t% Problem    : ALG167+1 : TPTP v9.0...</td>\n",
       "    </tr>\n",
       "    <tr>\n",
       "      <th>12362</th>\n",
       "      <td>/Users/jannisgehring/VSCode/coursework-pyres/s...</td>\n",
       "      <td>0.07/0.11\\t% Problem    : ALG387-1 : TPTP v9.0...</td>\n",
       "    </tr>\n",
       "    <tr>\n",
       "      <th>12363</th>\n",
       "      <td>/Users/jannisgehring/VSCode/coursework-pyres/s...</td>\n",
       "      <td>0.03/0.11\\t% Problem    : ALG248^3 : TPTP v9.0...</td>\n",
       "    </tr>\n",
       "    <tr>\n",
       "      <th>12364</th>\n",
       "      <td>/Users/jannisgehring/VSCode/coursework-pyres/s...</td>\n",
       "      <td>0.06/0.11\\t% Problem    : Problem\\n0.06/0.12\\t...</td>\n",
       "    </tr>\n",
       "    <tr>\n",
       "      <th>12365</th>\n",
       "      <td>/Users/jannisgehring/VSCode/coursework-pyres/s...</td>\n",
       "      <td>0.02/0.09\\t% Problem    : PUZ001+1 : TPTP v8.2...</td>\n",
       "    </tr>\n",
       "  </tbody>\n",
       "</table>\n",
       "<p>12366 rows × 2 columns</p>\n",
       "</div>"
      ],
      "text/plain": [
       "                                           file_dir_name  \\\n",
       "0      /Users/jannisgehring/VSCode/coursework-pyres/s...   \n",
       "1      /Users/jannisgehring/VSCode/coursework-pyres/s...   \n",
       "2      /Users/jannisgehring/VSCode/coursework-pyres/s...   \n",
       "3      /Users/jannisgehring/VSCode/coursework-pyres/s...   \n",
       "4      /Users/jannisgehring/VSCode/coursework-pyres/s...   \n",
       "...                                                  ...   \n",
       "12361  /Users/jannisgehring/VSCode/coursework-pyres/s...   \n",
       "12362  /Users/jannisgehring/VSCode/coursework-pyres/s...   \n",
       "12363  /Users/jannisgehring/VSCode/coursework-pyres/s...   \n",
       "12364  /Users/jannisgehring/VSCode/coursework-pyres/s...   \n",
       "12365  /Users/jannisgehring/VSCode/coursework-pyres/s...   \n",
       "\n",
       "                                                    text  \n",
       "0      0.05/0.12\\t% Problem    : ITP088^7 : TPTP v9.0...  \n",
       "1      0.02/0.12\\t% Problem    : ITP069_5 : TPTP v9.0...  \n",
       "2      0.07/0.09\\t% Problem    : ITP087^4 : TPTP v9.0...  \n",
       "3      0.03/0.11\\t% Problem    : ITP122^7 : TPTP v9.0...  \n",
       "4      0.07/0.12\\t% Problem    : ITP068^4 : TPTP v9.0...  \n",
       "...                                                  ...  \n",
       "12361  0.08/0.11\\t% Problem    : ALG167+1 : TPTP v9.0...  \n",
       "12362  0.07/0.11\\t% Problem    : ALG387-1 : TPTP v9.0...  \n",
       "12363  0.03/0.11\\t% Problem    : ALG248^3 : TPTP v9.0...  \n",
       "12364  0.06/0.11\\t% Problem    : Problem\\n0.06/0.12\\t...  \n",
       "12365  0.02/0.09\\t% Problem    : PUZ001+1 : TPTP v8.2...  \n",
       "\n",
       "[12366 rows x 2 columns]"
      ]
     },
     "execution_count": 4,
     "metadata": {},
     "output_type": "execute_result"
    }
   ],
   "source": [
    "load_from_file = True\n",
    "store = False\n",
    "if load_from_file:\n",
    "    df_se_indi = pd.read_csv(problem_folder + \"df_se_indi.csv\", index_col=0)\n",
    "else:\n",
    "    print(f\"Searching in {problem_folder}\")\n",
    "    file_dir_names = [\n",
    "        subdir+\"/\"+files[0]\n",
    "        for (subdir, dirs, files) in os.walk(problem_folder + \"jannis_gehring\")\n",
    "        if len(dirs)==0\n",
    "    ]\n",
    "\n",
    "    patterns = {\n",
    "        \"problem_name\": r\"(?<=Problem    : )(.*)(?= : )\",\n",
    "    }\n",
    "\n",
    "    texts = []\n",
    "    for full_file_name in tqdm(file_dir_names):\n",
    "        if not os.path.isfile(full_file_name):\n",
    "            texts.append(None)\n",
    "            continue\n",
    "        with open(full_file_name) as full_file_name:\n",
    "            s_mp_runs = full_file_name.read()\n",
    "            texts.append(s_mp_runs)\n",
    "\n",
    "    df_se_indi = pd.DataFrame({\n",
    "        \"file_dir_name\": file_dir_names,\n",
    "        \"text\": texts,\n",
    "    })\n",
    "if store:\n",
    "    df_se_indi.to_csv(problem_folder + \"df_se_indi.csv\")\n",
    "\n",
    "df_se_indi"
   ]
  },
  {
   "cell_type": "markdown",
   "metadata": {},
   "source": [
    "#### Add columns from regex"
   ]
  },
  {
   "cell_type": "code",
   "execution_count": 5,
   "metadata": {},
   "outputs": [
    {
     "data": {
      "text/html": [
       "<div>\n",
       "<style scoped>\n",
       "    .dataframe tbody tr th:only-of-type {\n",
       "        vertical-align: middle;\n",
       "    }\n",
       "\n",
       "    .dataframe tbody tr th {\n",
       "        vertical-align: top;\n",
       "    }\n",
       "\n",
       "    .dataframe thead th {\n",
       "        text-align: right;\n",
       "    }\n",
       "</style>\n",
       "<table border=\"1\" class=\"dataframe\">\n",
       "  <thead>\n",
       "    <tr style=\"text-align: right;\">\n",
       "      <th></th>\n",
       "      <th>file_dir_name</th>\n",
       "      <th>text</th>\n",
       "      <th>problem</th>\n",
       "      <th>mp_runs</th>\n",
       "    </tr>\n",
       "  </thead>\n",
       "  <tbody>\n",
       "    <tr>\n",
       "      <th>0</th>\n",
       "      <td>/Users/jannisgehring/VSCode/coursework-pyres/s...</td>\n",
       "      <td>0.05/0.12\\t% Problem    : ITP088^7 : TPTP v9.0...</td>\n",
       "      <td>ITP088^7</td>\n",
       "      <td>None</td>\n",
       "    </tr>\n",
       "    <tr>\n",
       "      <th>1</th>\n",
       "      <td>/Users/jannisgehring/VSCode/coursework-pyres/s...</td>\n",
       "      <td>0.02/0.12\\t% Problem    : ITP069_5 : TPTP v9.0...</td>\n",
       "      <td>ITP069_5</td>\n",
       "      <td>None</td>\n",
       "    </tr>\n",
       "    <tr>\n",
       "      <th>2</th>\n",
       "      <td>/Users/jannisgehring/VSCode/coursework-pyres/s...</td>\n",
       "      <td>0.07/0.09\\t% Problem    : ITP087^4 : TPTP v9.0...</td>\n",
       "      <td>ITP087^4</td>\n",
       "      <td>None</td>\n",
       "    </tr>\n",
       "    <tr>\n",
       "      <th>3</th>\n",
       "      <td>/Users/jannisgehring/VSCode/coursework-pyres/s...</td>\n",
       "      <td>0.03/0.11\\t% Problem    : ITP122^7 : TPTP v9.0...</td>\n",
       "      <td>ITP122^7</td>\n",
       "      <td>None</td>\n",
       "    </tr>\n",
       "    <tr>\n",
       "      <th>4</th>\n",
       "      <td>/Users/jannisgehring/VSCode/coursework-pyres/s...</td>\n",
       "      <td>0.07/0.12\\t% Problem    : ITP068^4 : TPTP v9.0...</td>\n",
       "      <td>ITP068^4</td>\n",
       "      <td>None</td>\n",
       "    </tr>\n",
       "    <tr>\n",
       "      <th>...</th>\n",
       "      <td>...</td>\n",
       "      <td>...</td>\n",
       "      <td>...</td>\n",
       "      <td>...</td>\n",
       "    </tr>\n",
       "    <tr>\n",
       "      <th>12361</th>\n",
       "      <td>/Users/jannisgehring/VSCode/coursework-pyres/s...</td>\n",
       "      <td>0.08/0.11\\t% Problem    : ALG167+1 : TPTP v9.0...</td>\n",
       "      <td>ALG167+1</td>\n",
       "      <td>None</td>\n",
       "    </tr>\n",
       "    <tr>\n",
       "      <th>12362</th>\n",
       "      <td>/Users/jannisgehring/VSCode/coursework-pyres/s...</td>\n",
       "      <td>0.07/0.11\\t% Problem    : ALG387-1 : TPTP v9.0...</td>\n",
       "      <td>ALG387-1</td>\n",
       "      <td>None</td>\n",
       "    </tr>\n",
       "    <tr>\n",
       "      <th>12363</th>\n",
       "      <td>/Users/jannisgehring/VSCode/coursework-pyres/s...</td>\n",
       "      <td>0.03/0.11\\t% Problem    : ALG248^3 : TPTP v9.0...</td>\n",
       "      <td>ALG248^3</td>\n",
       "      <td>None</td>\n",
       "    </tr>\n",
       "    <tr>\n",
       "      <th>12364</th>\n",
       "      <td>/Users/jannisgehring/VSCode/coursework-pyres/s...</td>\n",
       "      <td>0.06/0.11\\t% Problem    : Problem\\n0.06/0.12\\t...</td>\n",
       "      <td>None</td>\n",
       "      <td>None</td>\n",
       "    </tr>\n",
       "    <tr>\n",
       "      <th>12365</th>\n",
       "      <td>/Users/jannisgehring/VSCode/coursework-pyres/s...</td>\n",
       "      <td>0.02/0.09\\t% Problem    : PUZ001+1 : TPTP v8.2...</td>\n",
       "      <td>PUZ001+1</td>\n",
       "      <td>[(1, True, 'SZS status GaveUp'), (2, True, 'SZ...</td>\n",
       "    </tr>\n",
       "  </tbody>\n",
       "</table>\n",
       "<p>12366 rows × 4 columns</p>\n",
       "</div>"
      ],
      "text/plain": [
       "                                           file_dir_name  \\\n",
       "0      /Users/jannisgehring/VSCode/coursework-pyres/s...   \n",
       "1      /Users/jannisgehring/VSCode/coursework-pyres/s...   \n",
       "2      /Users/jannisgehring/VSCode/coursework-pyres/s...   \n",
       "3      /Users/jannisgehring/VSCode/coursework-pyres/s...   \n",
       "4      /Users/jannisgehring/VSCode/coursework-pyres/s...   \n",
       "...                                                  ...   \n",
       "12361  /Users/jannisgehring/VSCode/coursework-pyres/s...   \n",
       "12362  /Users/jannisgehring/VSCode/coursework-pyres/s...   \n",
       "12363  /Users/jannisgehring/VSCode/coursework-pyres/s...   \n",
       "12364  /Users/jannisgehring/VSCode/coursework-pyres/s...   \n",
       "12365  /Users/jannisgehring/VSCode/coursework-pyres/s...   \n",
       "\n",
       "                                                    text   problem  \\\n",
       "0      0.05/0.12\\t% Problem    : ITP088^7 : TPTP v9.0...  ITP088^7   \n",
       "1      0.02/0.12\\t% Problem    : ITP069_5 : TPTP v9.0...  ITP069_5   \n",
       "2      0.07/0.09\\t% Problem    : ITP087^4 : TPTP v9.0...  ITP087^4   \n",
       "3      0.03/0.11\\t% Problem    : ITP122^7 : TPTP v9.0...  ITP122^7   \n",
       "4      0.07/0.12\\t% Problem    : ITP068^4 : TPTP v9.0...  ITP068^4   \n",
       "...                                                  ...       ...   \n",
       "12361  0.08/0.11\\t% Problem    : ALG167+1 : TPTP v9.0...  ALG167+1   \n",
       "12362  0.07/0.11\\t% Problem    : ALG387-1 : TPTP v9.0...  ALG387-1   \n",
       "12363  0.03/0.11\\t% Problem    : ALG248^3 : TPTP v9.0...  ALG248^3   \n",
       "12364  0.06/0.11\\t% Problem    : Problem\\n0.06/0.12\\t...      None   \n",
       "12365  0.02/0.09\\t% Problem    : PUZ001+1 : TPTP v8.2...  PUZ001+1   \n",
       "\n",
       "                                                 mp_runs  \n",
       "0                                                   None  \n",
       "1                                                   None  \n",
       "2                                                   None  \n",
       "3                                                   None  \n",
       "4                                                   None  \n",
       "...                                                  ...  \n",
       "12361                                               None  \n",
       "12362                                               None  \n",
       "12363                                               None  \n",
       "12364                                               None  \n",
       "12365  [(1, True, 'SZS status GaveUp'), (2, True, 'SZ...  \n",
       "\n",
       "[12366 rows x 4 columns]"
      ]
     },
     "execution_count": 5,
     "metadata": {},
     "output_type": "execute_result"
    }
   ],
   "source": [
    "def extract_regex(pattern, text):\n",
    "    all_matches = re.findall(pattern, text)\n",
    "    if len(all_matches)>0:\n",
    "        return all_matches[0]\n",
    "    else:\n",
    "        return None\n",
    "\n",
    "def add_column_by_regex(df, new_column_name, pattern):\n",
    "    df[new_column_name] = (\n",
    "        df[\"text\"]\n",
    "        .apply(lambda text:\n",
    "            extract_regex(pattern, text)\n",
    "        )\n",
    "    )\n",
    "    return df\n",
    "\n",
    "new_column_specs = [\n",
    "    (\"problem\",  r\"(?<=Problem    : )(.*)(?= : )\"),\n",
    "    (\"mp_runs\",  r\"(?<=\\d\\t)\\[.*\\]\"),\n",
    "    # todo: fix: this regex patterns doesnt allow for lines starting with 79.84/10.64\n",
    "]\n",
    "for new_column_name, pattern in new_column_specs:\n",
    "    add_column_by_regex(df_se_indi, new_column_name, pattern)\n",
    "\n",
    "df_se_indi\n"
   ]
  },
  {
   "cell_type": "markdown",
   "metadata": {},
   "source": [
    "#### Evaluate mp_runs infos"
   ]
  },
  {
   "cell_type": "code",
   "execution_count": 105,
   "metadata": {},
   "outputs": [
    {
     "data": {
      "text/html": [
       "<div>\n",
       "<style scoped>\n",
       "    .dataframe tbody tr th:only-of-type {\n",
       "        vertical-align: middle;\n",
       "    }\n",
       "\n",
       "    .dataframe tbody tr th {\n",
       "        vertical-align: top;\n",
       "    }\n",
       "\n",
       "    .dataframe thead th {\n",
       "        text-align: right;\n",
       "    }\n",
       "</style>\n",
       "<table border=\"1\" class=\"dataframe\">\n",
       "  <thead>\n",
       "    <tr style=\"text-align: right;\">\n",
       "      <th></th>\n",
       "      <th>file_dir_name</th>\n",
       "      <th>text</th>\n",
       "      <th>problem</th>\n",
       "      <th>mp_runs</th>\n",
       "      <th>r_of_first_unsat</th>\n",
       "      <th>szs_status_of_max_r</th>\n",
       "    </tr>\n",
       "  </thead>\n",
       "  <tbody>\n",
       "    <tr>\n",
       "      <th>0</th>\n",
       "      <td>/Users/jannisgehring/VSCode/coursework-pyres/s...</td>\n",
       "      <td>0.05/0.12\\t% Problem    : ITP088^7 : TPTP v9.0...</td>\n",
       "      <td>ITP088^7</td>\n",
       "      <td>None</td>\n",
       "      <td>NaN</td>\n",
       "      <td>None</td>\n",
       "    </tr>\n",
       "    <tr>\n",
       "      <th>1</th>\n",
       "      <td>/Users/jannisgehring/VSCode/coursework-pyres/s...</td>\n",
       "      <td>0.02/0.12\\t% Problem    : ITP069_5 : TPTP v9.0...</td>\n",
       "      <td>ITP069_5</td>\n",
       "      <td>None</td>\n",
       "      <td>NaN</td>\n",
       "      <td>None</td>\n",
       "    </tr>\n",
       "    <tr>\n",
       "      <th>2</th>\n",
       "      <td>/Users/jannisgehring/VSCode/coursework-pyres/s...</td>\n",
       "      <td>0.07/0.09\\t% Problem    : ITP087^4 : TPTP v9.0...</td>\n",
       "      <td>ITP087^4</td>\n",
       "      <td>None</td>\n",
       "      <td>NaN</td>\n",
       "      <td>None</td>\n",
       "    </tr>\n",
       "    <tr>\n",
       "      <th>3</th>\n",
       "      <td>/Users/jannisgehring/VSCode/coursework-pyres/s...</td>\n",
       "      <td>0.03/0.11\\t% Problem    : ITP122^7 : TPTP v9.0...</td>\n",
       "      <td>ITP122^7</td>\n",
       "      <td>None</td>\n",
       "      <td>NaN</td>\n",
       "      <td>None</td>\n",
       "    </tr>\n",
       "    <tr>\n",
       "      <th>4</th>\n",
       "      <td>/Users/jannisgehring/VSCode/coursework-pyres/s...</td>\n",
       "      <td>0.07/0.12\\t% Problem    : ITP068^4 : TPTP v9.0...</td>\n",
       "      <td>ITP068^4</td>\n",
       "      <td>None</td>\n",
       "      <td>NaN</td>\n",
       "      <td>None</td>\n",
       "    </tr>\n",
       "    <tr>\n",
       "      <th>...</th>\n",
       "      <td>...</td>\n",
       "      <td>...</td>\n",
       "      <td>...</td>\n",
       "      <td>...</td>\n",
       "      <td>...</td>\n",
       "      <td>...</td>\n",
       "    </tr>\n",
       "    <tr>\n",
       "      <th>12361</th>\n",
       "      <td>/Users/jannisgehring/VSCode/coursework-pyres/s...</td>\n",
       "      <td>0.08/0.11\\t% Problem    : ALG167+1 : TPTP v9.0...</td>\n",
       "      <td>ALG167+1</td>\n",
       "      <td>None</td>\n",
       "      <td>NaN</td>\n",
       "      <td>None</td>\n",
       "    </tr>\n",
       "    <tr>\n",
       "      <th>12362</th>\n",
       "      <td>/Users/jannisgehring/VSCode/coursework-pyres/s...</td>\n",
       "      <td>0.07/0.11\\t% Problem    : ALG387-1 : TPTP v9.0...</td>\n",
       "      <td>ALG387-1</td>\n",
       "      <td>None</td>\n",
       "      <td>NaN</td>\n",
       "      <td>None</td>\n",
       "    </tr>\n",
       "    <tr>\n",
       "      <th>12363</th>\n",
       "      <td>/Users/jannisgehring/VSCode/coursework-pyres/s...</td>\n",
       "      <td>0.03/0.11\\t% Problem    : ALG248^3 : TPTP v9.0...</td>\n",
       "      <td>ALG248^3</td>\n",
       "      <td>None</td>\n",
       "      <td>NaN</td>\n",
       "      <td>None</td>\n",
       "    </tr>\n",
       "    <tr>\n",
       "      <th>12364</th>\n",
       "      <td>/Users/jannisgehring/VSCode/coursework-pyres/s...</td>\n",
       "      <td>0.06/0.11\\t% Problem    : Problem\\n0.06/0.12\\t...</td>\n",
       "      <td>None</td>\n",
       "      <td>None</td>\n",
       "      <td>NaN</td>\n",
       "      <td>None</td>\n",
       "    </tr>\n",
       "    <tr>\n",
       "      <th>12365</th>\n",
       "      <td>/Users/jannisgehring/VSCode/coursework-pyres/s...</td>\n",
       "      <td>0.02/0.09\\t% Problem    : PUZ001+1 : TPTP v8.2...</td>\n",
       "      <td>PUZ001+1</td>\n",
       "      <td>[(1, True, 'SZS status GaveUp'), (2, True, 'SZ...</td>\n",
       "      <td>NaN</td>\n",
       "      <td>SZS status Theorem</td>\n",
       "    </tr>\n",
       "  </tbody>\n",
       "</table>\n",
       "<p>12366 rows × 6 columns</p>\n",
       "</div>"
      ],
      "text/plain": [
       "                                           file_dir_name  \\\n",
       "0      /Users/jannisgehring/VSCode/coursework-pyres/s...   \n",
       "1      /Users/jannisgehring/VSCode/coursework-pyres/s...   \n",
       "2      /Users/jannisgehring/VSCode/coursework-pyres/s...   \n",
       "3      /Users/jannisgehring/VSCode/coursework-pyres/s...   \n",
       "4      /Users/jannisgehring/VSCode/coursework-pyres/s...   \n",
       "...                                                  ...   \n",
       "12361  /Users/jannisgehring/VSCode/coursework-pyres/s...   \n",
       "12362  /Users/jannisgehring/VSCode/coursework-pyres/s...   \n",
       "12363  /Users/jannisgehring/VSCode/coursework-pyres/s...   \n",
       "12364  /Users/jannisgehring/VSCode/coursework-pyres/s...   \n",
       "12365  /Users/jannisgehring/VSCode/coursework-pyres/s...   \n",
       "\n",
       "                                                    text   problem  \\\n",
       "0      0.05/0.12\\t% Problem    : ITP088^7 : TPTP v9.0...  ITP088^7   \n",
       "1      0.02/0.12\\t% Problem    : ITP069_5 : TPTP v9.0...  ITP069_5   \n",
       "2      0.07/0.09\\t% Problem    : ITP087^4 : TPTP v9.0...  ITP087^4   \n",
       "3      0.03/0.11\\t% Problem    : ITP122^7 : TPTP v9.0...  ITP122^7   \n",
       "4      0.07/0.12\\t% Problem    : ITP068^4 : TPTP v9.0...  ITP068^4   \n",
       "...                                                  ...       ...   \n",
       "12361  0.08/0.11\\t% Problem    : ALG167+1 : TPTP v9.0...  ALG167+1   \n",
       "12362  0.07/0.11\\t% Problem    : ALG387-1 : TPTP v9.0...  ALG387-1   \n",
       "12363  0.03/0.11\\t% Problem    : ALG248^3 : TPTP v9.0...  ALG248^3   \n",
       "12364  0.06/0.11\\t% Problem    : Problem\\n0.06/0.12\\t...      None   \n",
       "12365  0.02/0.09\\t% Problem    : PUZ001+1 : TPTP v8.2...  PUZ001+1   \n",
       "\n",
       "                                                 mp_runs  r_of_first_unsat  \\\n",
       "0                                                   None               NaN   \n",
       "1                                                   None               NaN   \n",
       "2                                                   None               NaN   \n",
       "3                                                   None               NaN   \n",
       "4                                                   None               NaN   \n",
       "...                                                  ...               ...   \n",
       "12361                                               None               NaN   \n",
       "12362                                               None               NaN   \n",
       "12363                                               None               NaN   \n",
       "12364                                               None               NaN   \n",
       "12365  [(1, True, 'SZS status GaveUp'), (2, True, 'SZ...               NaN   \n",
       "\n",
       "      szs_status_of_max_r  \n",
       "0                    None  \n",
       "1                    None  \n",
       "2                    None  \n",
       "3                    None  \n",
       "4                    None  \n",
       "...                   ...  \n",
       "12361                None  \n",
       "12362                None  \n",
       "12363                None  \n",
       "12364                None  \n",
       "12365  SZS status Theorem  \n",
       "\n",
       "[12366 rows x 6 columns]"
      ]
     },
     "execution_count": 105,
     "metadata": {},
     "output_type": "execute_result"
    }
   ],
   "source": [
    "import ast\n",
    "\n",
    "def get_rel_runs_infos(text: str) -> int:\n",
    "    if text is None:\n",
    "        return None, None\n",
    "    data = list(ast.literal_eval(text))\n",
    "    df = pd.DataFrame(\n",
    "        data,\n",
    "        columns=[\"rel_distance\", \"terminated\", \"szs_status\"]\n",
    "    )\n",
    "    df_unsats = df[df[\"szs_status\"].str.contains(\"Unsat\", na=False)]\n",
    "    r_of_first_unsat = int(df_unsats.iloc[0][\"rel_distance\"]) if not df_unsats.empty else None\n",
    "    szs_status_of_max_r = df.iloc[-1][\"szs_status\"] if not df.empty else None\n",
    "    return r_of_first_unsat, szs_status_of_max_r\n",
    "\n",
    "df_se_indi[\"r_of_first_unsat\"], df_se_indi[\"szs_status_of_max_r\"] =\\\n",
    "    zip(*df_se_indi[\"mp_runs\"].apply(get_rel_runs_infos))\n",
    "\n",
    "df_se_indi"
   ]
  },
  {
   "cell_type": "code",
   "execution_count": 106,
   "metadata": {},
   "outputs": [
    {
     "name": "stderr",
     "output_type": "stream",
     "text": [
      "/var/folders/pb/8wrfvtz5593cjrgr_g89r70m0000gn/T/ipykernel_50905/1021490712.py:29: SettingWithCopyWarning:\n",
      "\n",
      "\n",
      "A value is trying to be set on a copy of a slice from a DataFrame.\n",
      "Try using .loc[row_indexer,col_indexer] = value instead\n",
      "\n",
      "See the caveats in the documentation: https://pandas.pydata.org/pandas-docs/stable/user_guide/indexing.html#returning-a-view-versus-a-copy\n",
      "\n"
     ]
    },
    {
     "data": {
      "text/plain": [
       "suitable_status\n",
       "Resource out                3952\n",
       "SZS Status Inaproppriate    1165\n",
       "Alarm Clock                  837\n",
       "Traceback                    644\n",
       "Name: count, dtype: int64"
      ]
     },
     "execution_count": 106,
     "metadata": {},
     "output_type": "execute_result"
    }
   ],
   "source": [
    "# Suitable for PyRes\n",
    "suitable = (\n",
    "    df_se_indi\n",
    "    [\n",
    "        df_se_indi[\"problem\"].notnull()\n",
    "        & ~df_se_indi[\"problem\"].str.contains(\"\\\\_|\\\\^\", regex=True, na=True)\n",
    "        & df_se_indi[\"problem\"].str.contains(\"\\\\+|\\\\-\", regex=True)\n",
    "    ]\n",
    ")\n",
    "suitable_ctr = len(suitable)\n",
    "\n",
    "# Multiprocessing runs available\n",
    "mp_runs_available = suitable[suitable[\"mp_runs\"].notnull()]\n",
    "mp_runs_available_ctr = len(suitable[suitable[\"mp_runs\"].notnull()])\n",
    "mp_runs_available_ctr\n",
    "\n",
    "def get_status(text: str):\n",
    "    pattern_to_status = {\n",
    "        r'Resource limit exceeded': \"Resource out\",\n",
    "        r'Traceback \\(most recent call last\\)': \"Traceback\",\n",
    "        r'\\d\\tAlarm clock': \"Alarm Clock\",\n",
    "        r'\\d\\t% SZS status Inappropriate': \"SZS Status Inaproppriate\",\n",
    "    }\n",
    "    for pattern, status in pattern_to_status.items():\n",
    "        if bool(re.search(pattern, text)):\n",
    "            return status\n",
    "    return None\n",
    "\n",
    "suitable[\"suitable_status\"] = suitable[\"text\"].apply(get_status)\n",
    "suitable_status_ctrs = suitable[\"suitable_status\"].value_counts()\n",
    "suitable_status_ctrs"
   ]
  },
  {
   "cell_type": "code",
   "execution_count": 107,
   "metadata": {},
   "outputs": [
    {
     "data": {
      "application/vnd.plotly.v1+json": {
       "config": {
        "plotlyServerURL": "https://plot.ly"
       },
       "data": [
        {
         "link": {
          "source": [
           1,
           1,
           5,
           5,
           5,
           5,
           5
          ],
          "target": [
           5,
           7,
           2,
           3,
           6,
           0,
           4
          ],
          "value": [
           7850,
           4516,
           760,
           3952,
           644,
           837,
           1165
          ]
         },
         "node": {
          "color": "blue",
          "label": [
           "Alarm Clock",
           "All",
           "Multiprocessing runs available",
           "Resource out",
           "SZS Status Inaproppriate",
           "Suitable for PyRes",
           "Traceback",
           "Unsuitable for PyRes"
          ],
          "line": {
           "color": "black",
           "width": 0.5
          },
          "pad": 15,
          "thickness": 20
         },
         "type": "sankey"
        }
       ],
       "layout": {
        "template": {
         "data": {
          "bar": [
           {
            "error_x": {
             "color": "#2a3f5f"
            },
            "error_y": {
             "color": "#2a3f5f"
            },
            "marker": {
             "line": {
              "color": "#E5ECF6",
              "width": 0.5
             },
             "pattern": {
              "fillmode": "overlay",
              "size": 10,
              "solidity": 0.2
             }
            },
            "type": "bar"
           }
          ],
          "barpolar": [
           {
            "marker": {
             "line": {
              "color": "#E5ECF6",
              "width": 0.5
             },
             "pattern": {
              "fillmode": "overlay",
              "size": 10,
              "solidity": 0.2
             }
            },
            "type": "barpolar"
           }
          ],
          "carpet": [
           {
            "aaxis": {
             "endlinecolor": "#2a3f5f",
             "gridcolor": "white",
             "linecolor": "white",
             "minorgridcolor": "white",
             "startlinecolor": "#2a3f5f"
            },
            "baxis": {
             "endlinecolor": "#2a3f5f",
             "gridcolor": "white",
             "linecolor": "white",
             "minorgridcolor": "white",
             "startlinecolor": "#2a3f5f"
            },
            "type": "carpet"
           }
          ],
          "choropleth": [
           {
            "colorbar": {
             "outlinewidth": 0,
             "ticks": ""
            },
            "type": "choropleth"
           }
          ],
          "contour": [
           {
            "colorbar": {
             "outlinewidth": 0,
             "ticks": ""
            },
            "colorscale": [
             [
              0,
              "#0d0887"
             ],
             [
              0.1111111111111111,
              "#46039f"
             ],
             [
              0.2222222222222222,
              "#7201a8"
             ],
             [
              0.3333333333333333,
              "#9c179e"
             ],
             [
              0.4444444444444444,
              "#bd3786"
             ],
             [
              0.5555555555555556,
              "#d8576b"
             ],
             [
              0.6666666666666666,
              "#ed7953"
             ],
             [
              0.7777777777777778,
              "#fb9f3a"
             ],
             [
              0.8888888888888888,
              "#fdca26"
             ],
             [
              1,
              "#f0f921"
             ]
            ],
            "type": "contour"
           }
          ],
          "contourcarpet": [
           {
            "colorbar": {
             "outlinewidth": 0,
             "ticks": ""
            },
            "type": "contourcarpet"
           }
          ],
          "heatmap": [
           {
            "colorbar": {
             "outlinewidth": 0,
             "ticks": ""
            },
            "colorscale": [
             [
              0,
              "#0d0887"
             ],
             [
              0.1111111111111111,
              "#46039f"
             ],
             [
              0.2222222222222222,
              "#7201a8"
             ],
             [
              0.3333333333333333,
              "#9c179e"
             ],
             [
              0.4444444444444444,
              "#bd3786"
             ],
             [
              0.5555555555555556,
              "#d8576b"
             ],
             [
              0.6666666666666666,
              "#ed7953"
             ],
             [
              0.7777777777777778,
              "#fb9f3a"
             ],
             [
              0.8888888888888888,
              "#fdca26"
             ],
             [
              1,
              "#f0f921"
             ]
            ],
            "type": "heatmap"
           }
          ],
          "histogram": [
           {
            "marker": {
             "pattern": {
              "fillmode": "overlay",
              "size": 10,
              "solidity": 0.2
             }
            },
            "type": "histogram"
           }
          ],
          "histogram2d": [
           {
            "colorbar": {
             "outlinewidth": 0,
             "ticks": ""
            },
            "colorscale": [
             [
              0,
              "#0d0887"
             ],
             [
              0.1111111111111111,
              "#46039f"
             ],
             [
              0.2222222222222222,
              "#7201a8"
             ],
             [
              0.3333333333333333,
              "#9c179e"
             ],
             [
              0.4444444444444444,
              "#bd3786"
             ],
             [
              0.5555555555555556,
              "#d8576b"
             ],
             [
              0.6666666666666666,
              "#ed7953"
             ],
             [
              0.7777777777777778,
              "#fb9f3a"
             ],
             [
              0.8888888888888888,
              "#fdca26"
             ],
             [
              1,
              "#f0f921"
             ]
            ],
            "type": "histogram2d"
           }
          ],
          "histogram2dcontour": [
           {
            "colorbar": {
             "outlinewidth": 0,
             "ticks": ""
            },
            "colorscale": [
             [
              0,
              "#0d0887"
             ],
             [
              0.1111111111111111,
              "#46039f"
             ],
             [
              0.2222222222222222,
              "#7201a8"
             ],
             [
              0.3333333333333333,
              "#9c179e"
             ],
             [
              0.4444444444444444,
              "#bd3786"
             ],
             [
              0.5555555555555556,
              "#d8576b"
             ],
             [
              0.6666666666666666,
              "#ed7953"
             ],
             [
              0.7777777777777778,
              "#fb9f3a"
             ],
             [
              0.8888888888888888,
              "#fdca26"
             ],
             [
              1,
              "#f0f921"
             ]
            ],
            "type": "histogram2dcontour"
           }
          ],
          "mesh3d": [
           {
            "colorbar": {
             "outlinewidth": 0,
             "ticks": ""
            },
            "type": "mesh3d"
           }
          ],
          "parcoords": [
           {
            "line": {
             "colorbar": {
              "outlinewidth": 0,
              "ticks": ""
             }
            },
            "type": "parcoords"
           }
          ],
          "pie": [
           {
            "automargin": true,
            "type": "pie"
           }
          ],
          "scatter": [
           {
            "fillpattern": {
             "fillmode": "overlay",
             "size": 10,
             "solidity": 0.2
            },
            "type": "scatter"
           }
          ],
          "scatter3d": [
           {
            "line": {
             "colorbar": {
              "outlinewidth": 0,
              "ticks": ""
             }
            },
            "marker": {
             "colorbar": {
              "outlinewidth": 0,
              "ticks": ""
             }
            },
            "type": "scatter3d"
           }
          ],
          "scattercarpet": [
           {
            "marker": {
             "colorbar": {
              "outlinewidth": 0,
              "ticks": ""
             }
            },
            "type": "scattercarpet"
           }
          ],
          "scattergeo": [
           {
            "marker": {
             "colorbar": {
              "outlinewidth": 0,
              "ticks": ""
             }
            },
            "type": "scattergeo"
           }
          ],
          "scattergl": [
           {
            "marker": {
             "colorbar": {
              "outlinewidth": 0,
              "ticks": ""
             }
            },
            "type": "scattergl"
           }
          ],
          "scattermap": [
           {
            "marker": {
             "colorbar": {
              "outlinewidth": 0,
              "ticks": ""
             }
            },
            "type": "scattermap"
           }
          ],
          "scattermapbox": [
           {
            "marker": {
             "colorbar": {
              "outlinewidth": 0,
              "ticks": ""
             }
            },
            "type": "scattermapbox"
           }
          ],
          "scatterpolar": [
           {
            "marker": {
             "colorbar": {
              "outlinewidth": 0,
              "ticks": ""
             }
            },
            "type": "scatterpolar"
           }
          ],
          "scatterpolargl": [
           {
            "marker": {
             "colorbar": {
              "outlinewidth": 0,
              "ticks": ""
             }
            },
            "type": "scatterpolargl"
           }
          ],
          "scatterternary": [
           {
            "marker": {
             "colorbar": {
              "outlinewidth": 0,
              "ticks": ""
             }
            },
            "type": "scatterternary"
           }
          ],
          "surface": [
           {
            "colorbar": {
             "outlinewidth": 0,
             "ticks": ""
            },
            "colorscale": [
             [
              0,
              "#0d0887"
             ],
             [
              0.1111111111111111,
              "#46039f"
             ],
             [
              0.2222222222222222,
              "#7201a8"
             ],
             [
              0.3333333333333333,
              "#9c179e"
             ],
             [
              0.4444444444444444,
              "#bd3786"
             ],
             [
              0.5555555555555556,
              "#d8576b"
             ],
             [
              0.6666666666666666,
              "#ed7953"
             ],
             [
              0.7777777777777778,
              "#fb9f3a"
             ],
             [
              0.8888888888888888,
              "#fdca26"
             ],
             [
              1,
              "#f0f921"
             ]
            ],
            "type": "surface"
           }
          ],
          "table": [
           {
            "cells": {
             "fill": {
              "color": "#EBF0F8"
             },
             "line": {
              "color": "white"
             }
            },
            "header": {
             "fill": {
              "color": "#C8D4E3"
             },
             "line": {
              "color": "white"
             }
            },
            "type": "table"
           }
          ]
         },
         "layout": {
          "annotationdefaults": {
           "arrowcolor": "#2a3f5f",
           "arrowhead": 0,
           "arrowwidth": 1
          },
          "autotypenumbers": "strict",
          "coloraxis": {
           "colorbar": {
            "outlinewidth": 0,
            "ticks": ""
           }
          },
          "colorscale": {
           "diverging": [
            [
             0,
             "#8e0152"
            ],
            [
             0.1,
             "#c51b7d"
            ],
            [
             0.2,
             "#de77ae"
            ],
            [
             0.3,
             "#f1b6da"
            ],
            [
             0.4,
             "#fde0ef"
            ],
            [
             0.5,
             "#f7f7f7"
            ],
            [
             0.6,
             "#e6f5d0"
            ],
            [
             0.7,
             "#b8e186"
            ],
            [
             0.8,
             "#7fbc41"
            ],
            [
             0.9,
             "#4d9221"
            ],
            [
             1,
             "#276419"
            ]
           ],
           "sequential": [
            [
             0,
             "#0d0887"
            ],
            [
             0.1111111111111111,
             "#46039f"
            ],
            [
             0.2222222222222222,
             "#7201a8"
            ],
            [
             0.3333333333333333,
             "#9c179e"
            ],
            [
             0.4444444444444444,
             "#bd3786"
            ],
            [
             0.5555555555555556,
             "#d8576b"
            ],
            [
             0.6666666666666666,
             "#ed7953"
            ],
            [
             0.7777777777777778,
             "#fb9f3a"
            ],
            [
             0.8888888888888888,
             "#fdca26"
            ],
            [
             1,
             "#f0f921"
            ]
           ],
           "sequentialminus": [
            [
             0,
             "#0d0887"
            ],
            [
             0.1111111111111111,
             "#46039f"
            ],
            [
             0.2222222222222222,
             "#7201a8"
            ],
            [
             0.3333333333333333,
             "#9c179e"
            ],
            [
             0.4444444444444444,
             "#bd3786"
            ],
            [
             0.5555555555555556,
             "#d8576b"
            ],
            [
             0.6666666666666666,
             "#ed7953"
            ],
            [
             0.7777777777777778,
             "#fb9f3a"
            ],
            [
             0.8888888888888888,
             "#fdca26"
            ],
            [
             1,
             "#f0f921"
            ]
           ]
          },
          "colorway": [
           "#636efa",
           "#EF553B",
           "#00cc96",
           "#ab63fa",
           "#FFA15A",
           "#19d3f3",
           "#FF6692",
           "#B6E880",
           "#FF97FF",
           "#FECB52"
          ],
          "font": {
           "color": "#2a3f5f"
          },
          "geo": {
           "bgcolor": "white",
           "lakecolor": "white",
           "landcolor": "#E5ECF6",
           "showlakes": true,
           "showland": true,
           "subunitcolor": "white"
          },
          "hoverlabel": {
           "align": "left"
          },
          "hovermode": "closest",
          "mapbox": {
           "style": "light"
          },
          "paper_bgcolor": "white",
          "plot_bgcolor": "#E5ECF6",
          "polar": {
           "angularaxis": {
            "gridcolor": "white",
            "linecolor": "white",
            "ticks": ""
           },
           "bgcolor": "#E5ECF6",
           "radialaxis": {
            "gridcolor": "white",
            "linecolor": "white",
            "ticks": ""
           }
          },
          "scene": {
           "xaxis": {
            "backgroundcolor": "#E5ECF6",
            "gridcolor": "white",
            "gridwidth": 2,
            "linecolor": "white",
            "showbackground": true,
            "ticks": "",
            "zerolinecolor": "white"
           },
           "yaxis": {
            "backgroundcolor": "#E5ECF6",
            "gridcolor": "white",
            "gridwidth": 2,
            "linecolor": "white",
            "showbackground": true,
            "ticks": "",
            "zerolinecolor": "white"
           },
           "zaxis": {
            "backgroundcolor": "#E5ECF6",
            "gridcolor": "white",
            "gridwidth": 2,
            "linecolor": "white",
            "showbackground": true,
            "ticks": "",
            "zerolinecolor": "white"
           }
          },
          "shapedefaults": {
           "line": {
            "color": "#2a3f5f"
           }
          },
          "ternary": {
           "aaxis": {
            "gridcolor": "white",
            "linecolor": "white",
            "ticks": ""
           },
           "baxis": {
            "gridcolor": "white",
            "linecolor": "white",
            "ticks": ""
           },
           "bgcolor": "#E5ECF6",
           "caxis": {
            "gridcolor": "white",
            "linecolor": "white",
            "ticks": ""
           }
          },
          "title": {
           "x": 0.05
          },
          "xaxis": {
           "automargin": true,
           "gridcolor": "white",
           "linecolor": "white",
           "ticks": "",
           "title": {
            "standoff": 15
           },
           "zerolinecolor": "white",
           "zerolinewidth": 2
          },
          "yaxis": {
           "automargin": true,
           "gridcolor": "white",
           "linecolor": "white",
           "ticks": "",
           "title": {
            "standoff": 15
           },
           "zerolinecolor": "white",
           "zerolinewidth": 2
          }
         }
        }
       }
      }
     },
     "metadata": {},
     "output_type": "display_data"
    }
   ],
   "source": [
    "import plotly.graph_objects as go\n",
    "\n",
    "read_from_csv = False\n",
    "store = False\n",
    "sankey_csv_path = problem_folder + \"/sankey_data.csv\"\n",
    "\n",
    "if read_from_csv:\n",
    "  df_filterings = pd.read_csv(sankey_csv_path, index_col=0)\n",
    "else:\n",
    "  filterings = [\n",
    "    # (from, to, thickness),\n",
    "    (\"All\", \"Suitable for PyRes\", suitable_ctr),\n",
    "    (\"All\", \"Unsuitable for PyRes\", len(df_se_indi)-suitable_ctr),\n",
    "    (\"Suitable for PyRes\", \"Multiprocessing runs available\", mp_runs_available_ctr),\n",
    "    (\"Suitable for PyRes\", \"Resource out\", suitable_status_ctrs[\"Resource out\"]),\n",
    "    (\"Suitable for PyRes\", \"Traceback\", suitable_status_ctrs[\"Traceback\"]),\n",
    "    (\"Suitable for PyRes\", \"Alarm Clock\", suitable_status_ctrs[\"Alarm Clock\"]),\n",
    "    (\"Suitable for PyRes\", \"SZS Status Inaproppriate\", suitable_status_ctrs[\"SZS Status Inaproppriate\"]),\n",
    "  ]\n",
    "  df_filterings = pd.DataFrame(filterings, columns=[\"source\", \"target\", \"value\"])\n",
    "  if store:\n",
    "    df_filterings.to_csv(sankey_csv_path)\n",
    "\n",
    "labels = np.unique(df_filterings[[\"source\", \"target\"]].values).tolist()\n",
    "\n",
    "for column_name in [\"source\", \"target\"]:\n",
    "  df_filterings[column_name] =\\\n",
    "    df_filterings[column_name].apply(lambda x: labels.index(x))\n",
    "\n",
    "sources, targets, values = [\n",
    "  df_filterings[col].to_list()\n",
    "  for col in\n",
    "  df_filterings.columns\n",
    "]\n",
    "\n",
    "fig = go.Figure(data=[go.Sankey(\n",
    "    node = dict(\n",
    "      pad = 15,\n",
    "      thickness = 20,\n",
    "      line = dict(color = \"black\", width = 0.5),\n",
    "      label = labels,\n",
    "      color = \"blue\"\n",
    "    ),\n",
    "    link = dict(\n",
    "      source = sources,\n",
    "      target = targets,\n",
    "      value = values,\n",
    "))])\n",
    "fig.show()\n",
    "\n"
   ]
  },
  {
   "cell_type": "code",
   "execution_count": 108,
   "metadata": {},
   "outputs": [
    {
     "data": {
      "image/png": "[encoded data removed]",
      "text/plain": [
       "<Figure size 640x480 with 1 Axes>"
      ]
     },
     "metadata": {},
     "output_type": "display_data"
    }
   ],
   "source": [
    "(\n",
    "    df_se_indi\n",
    "    [df_se_indi[\"r_of_first_unsat\"].notnull()]\n",
    "    [\"r_of_first_unsat\"]\n",
    "    .astype(int)\n",
    "    .value_counts()\n",
    "    .sort_index()\n",
    "    .plot(\n",
    "        title=\"What was the minimal sufficient relevance distance?\",\n",
    "        xlabel=\"Relevance distance\",\n",
    "        ylabel=\"Number of problems\",\n",
    "        kind=\"bar\",\n",
    "    )\n",
    ")\n",
    "plt.show()"
   ]
  },
  {
   "cell_type": "code",
   "execution_count": 109,
   "metadata": {},
   "outputs": [
    {
     "data": {
      "image/png": "[encoded data removed]",
      "text/plain": [
       "<Figure size 640x480 with 1 Axes>"
      ]
     },
     "metadata": {},
     "output_type": "display_data"
    }
   ],
   "source": [
    "(\n",
    "    df_se_indi\n",
    "    [df_se_indi[\"szs_status_of_max_r\"].notnull()]\n",
    "    [\"szs_status_of_max_r\"]\n",
    "    .apply(lambda text: text.replace(\"SZS status \", \"\"))\n",
    "    .value_counts()\n",
    "    .sort_values(ascending=False)\n",
    "    .plot(\n",
    "        title=\"What was the final result?\",\n",
    "        xlabel=\"Result\",\n",
    "        ylabel=\"Number of problems\",\n",
    "        kind=\"bar\",\n",
    "    )\n",
    ")\n",
    "plt.show()"
   ]
  },
  {
   "cell_type": "code",
   "execution_count": 110,
   "metadata": {},
   "outputs": [
    {
     "data": {
      "text/html": [
       "<div>\n",
       "<style scoped>\n",
       "    .dataframe tbody tr th:only-of-type {\n",
       "        vertical-align: middle;\n",
       "    }\n",
       "\n",
       "    .dataframe tbody tr th {\n",
       "        vertical-align: top;\n",
       "    }\n",
       "\n",
       "    .dataframe thead th {\n",
       "        text-align: right;\n",
       "    }\n",
       "</style>\n",
       "<table border=\"1\" class=\"dataframe\">\n",
       "  <thead>\n",
       "    <tr style=\"text-align: right;\">\n",
       "      <th></th>\n",
       "      <th>Problem</th>\n",
       "      <th>spc</th>\n",
       "      <th>n_formulae</th>\n",
       "      <th>n_atoms</th>\n",
       "      <th>n_clauses</th>\n",
       "      <th>n_literals</th>\n",
       "      <th>n_variables</th>\n",
       "      <th>full_file_name</th>\n",
       "      <th>problem</th>\n",
       "    </tr>\n",
       "  </thead>\n",
       "  <tbody>\n",
       "    <tr>\n",
       "      <th>0</th>\n",
       "      <td>TOP036+4.p</td>\n",
       "      <td>FOF_THM_RFO_SEQ</td>\n",
       "      <td>34431.0</td>\n",
       "      <td>241872.0</td>\n",
       "      <td>NaN</td>\n",
       "      <td>NaN</td>\n",
       "      <td>94759.0</td>\n",
       "      <td>TPTP-v9.0.0/Problems/TOP/TOP036+4.p</td>\n",
       "      <td>TOP036+4</td>\n",
       "    </tr>\n",
       "    <tr>\n",
       "      <th>1</th>\n",
       "      <td>TOP029+1.p</td>\n",
       "      <td>FOF_THM_RFO_SEQ</td>\n",
       "      <td>109.0</td>\n",
       "      <td>569.0</td>\n",
       "      <td>NaN</td>\n",
       "      <td>NaN</td>\n",
       "      <td>184.0</td>\n",
       "      <td>TPTP-v9.0.0/Problems/TOP/TOP029+1.p</td>\n",
       "      <td>TOP029+1</td>\n",
       "    </tr>\n",
       "    <tr>\n",
       "      <th>2</th>\n",
       "      <td>TOP042+3.p</td>\n",
       "      <td>FOF_THM_RFO_SEQ</td>\n",
       "      <td>13534.0</td>\n",
       "      <td>83921.0</td>\n",
       "      <td>NaN</td>\n",
       "      <td>NaN</td>\n",
       "      <td>33628.0</td>\n",
       "      <td>TPTP-v9.0.0/Problems/TOP/TOP042+3.p</td>\n",
       "      <td>TOP042+3</td>\n",
       "    </tr>\n",
       "    <tr>\n",
       "      <th>3</th>\n",
       "      <td>TOP008-1.p</td>\n",
       "      <td>CNF_SAT_RFO_NEQ</td>\n",
       "      <td>NaN</td>\n",
       "      <td>NaN</td>\n",
       "      <td>112.0</td>\n",
       "      <td>339.0</td>\n",
       "      <td>357.0</td>\n",
       "      <td>TPTP-v9.0.0/Problems/TOP/TOP008-1.p</td>\n",
       "      <td>TOP008-1</td>\n",
       "    </tr>\n",
       "    <tr>\n",
       "      <th>4</th>\n",
       "      <td>TOP009-1.p</td>\n",
       "      <td>CNF_SAT_RFO_NEQ</td>\n",
       "      <td>NaN</td>\n",
       "      <td>NaN</td>\n",
       "      <td>112.0</td>\n",
       "      <td>339.0</td>\n",
       "      <td>357.0</td>\n",
       "      <td>TPTP-v9.0.0/Problems/TOP/TOP009-1.p</td>\n",
       "      <td>TOP009-1</td>\n",
       "    </tr>\n",
       "    <tr>\n",
       "      <th>...</th>\n",
       "      <td>...</td>\n",
       "      <td>...</td>\n",
       "      <td>...</td>\n",
       "      <td>...</td>\n",
       "      <td>...</td>\n",
       "      <td>...</td>\n",
       "      <td>...</td>\n",
       "      <td>...</td>\n",
       "      <td>...</td>\n",
       "    </tr>\n",
       "    <tr>\n",
       "      <th>26272</th>\n",
       "      <td>MED007+1.p</td>\n",
       "      <td>FOF_THM_RFO_NEQ</td>\n",
       "      <td>41.0</td>\n",
       "      <td>201.0</td>\n",
       "      <td>NaN</td>\n",
       "      <td>NaN</td>\n",
       "      <td>96.0</td>\n",
       "      <td>TPTP-v9.0.0/Problems/MED/MED007+1.p</td>\n",
       "      <td>MED007+1</td>\n",
       "    </tr>\n",
       "    <tr>\n",
       "      <th>26273</th>\n",
       "      <td>MED006+1.p</td>\n",
       "      <td>FOF_THM_RFO_NEQ</td>\n",
       "      <td>41.0</td>\n",
       "      <td>197.0</td>\n",
       "      <td>NaN</td>\n",
       "      <td>NaN</td>\n",
       "      <td>95.0</td>\n",
       "      <td>TPTP-v9.0.0/Problems/MED/MED006+1.p</td>\n",
       "      <td>MED006+1</td>\n",
       "    </tr>\n",
       "    <tr>\n",
       "      <th>26274</th>\n",
       "      <td>MED012+1.p</td>\n",
       "      <td>FOF_SAT_RFO_NEQ</td>\n",
       "      <td>40.0</td>\n",
       "      <td>190.0</td>\n",
       "      <td>NaN</td>\n",
       "      <td>NaN</td>\n",
       "      <td>93.0</td>\n",
       "      <td>TPTP-v9.0.0/Problems/MED/MED012+1.p</td>\n",
       "      <td>MED012+1</td>\n",
       "    </tr>\n",
       "    <tr>\n",
       "      <th>26275</th>\n",
       "      <td>MED008+1.p</td>\n",
       "      <td>FOF_THM_RFO_NEQ</td>\n",
       "      <td>41.0</td>\n",
       "      <td>197.0</td>\n",
       "      <td>NaN</td>\n",
       "      <td>NaN</td>\n",
       "      <td>95.0</td>\n",
       "      <td>TPTP-v9.0.0/Problems/MED/MED008+1.p</td>\n",
       "      <td>MED008+1</td>\n",
       "    </tr>\n",
       "    <tr>\n",
       "      <th>26276</th>\n",
       "      <td>MED009+1.p</td>\n",
       "      <td>FOF_THM_RFO_NEQ</td>\n",
       "      <td>41.0</td>\n",
       "      <td>201.0</td>\n",
       "      <td>NaN</td>\n",
       "      <td>NaN</td>\n",
       "      <td>96.0</td>\n",
       "      <td>TPTP-v9.0.0/Problems/MED/MED009+1.p</td>\n",
       "      <td>MED009+1</td>\n",
       "    </tr>\n",
       "  </tbody>\n",
       "</table>\n",
       "<p>26277 rows × 9 columns</p>\n",
       "</div>"
      ],
      "text/plain": [
       "          Problem               spc  n_formulae   n_atoms  n_clauses  \\\n",
       "0      TOP036+4.p   FOF_THM_RFO_SEQ     34431.0  241872.0        NaN   \n",
       "1      TOP029+1.p   FOF_THM_RFO_SEQ       109.0     569.0        NaN   \n",
       "2      TOP042+3.p   FOF_THM_RFO_SEQ     13534.0   83921.0        NaN   \n",
       "3      TOP008-1.p   CNF_SAT_RFO_NEQ         NaN       NaN      112.0   \n",
       "4      TOP009-1.p   CNF_SAT_RFO_NEQ         NaN       NaN      112.0   \n",
       "...           ...               ...         ...       ...        ...   \n",
       "26272  MED007+1.p   FOF_THM_RFO_NEQ        41.0     201.0        NaN   \n",
       "26273  MED006+1.p   FOF_THM_RFO_NEQ        41.0     197.0        NaN   \n",
       "26274  MED012+1.p   FOF_SAT_RFO_NEQ        40.0     190.0        NaN   \n",
       "26275  MED008+1.p   FOF_THM_RFO_NEQ        41.0     197.0        NaN   \n",
       "26276  MED009+1.p   FOF_THM_RFO_NEQ        41.0     201.0        NaN   \n",
       "\n",
       "       n_literals  n_variables                       full_file_name   problem  \n",
       "0             NaN      94759.0  TPTP-v9.0.0/Problems/TOP/TOP036+4.p  TOP036+4  \n",
       "1             NaN        184.0  TPTP-v9.0.0/Problems/TOP/TOP029+1.p  TOP029+1  \n",
       "2             NaN      33628.0  TPTP-v9.0.0/Problems/TOP/TOP042+3.p  TOP042+3  \n",
       "3           339.0        357.0  TPTP-v9.0.0/Problems/TOP/TOP008-1.p  TOP008-1  \n",
       "4           339.0        357.0  TPTP-v9.0.0/Problems/TOP/TOP009-1.p  TOP009-1  \n",
       "...           ...          ...                                  ...       ...  \n",
       "26272         NaN         96.0  TPTP-v9.0.0/Problems/MED/MED007+1.p  MED007+1  \n",
       "26273         NaN         95.0  TPTP-v9.0.0/Problems/MED/MED006+1.p  MED006+1  \n",
       "26274         NaN         93.0  TPTP-v9.0.0/Problems/MED/MED012+1.p  MED012+1  \n",
       "26275         NaN         95.0  TPTP-v9.0.0/Problems/MED/MED008+1.p  MED008+1  \n",
       "26276         NaN         96.0  TPTP-v9.0.0/Problems/MED/MED009+1.p  MED009+1  \n",
       "\n",
       "[26277 rows x 9 columns]"
      ]
     },
     "execution_count": 110,
     "metadata": {},
     "output_type": "execute_result"
    }
   ],
   "source": [
    "df_tptp"
   ]
  },
  {
   "cell_type": "code",
   "execution_count": 130,
   "metadata": {},
   "outputs": [
    {
     "data": {
      "image/png": "[encoded data removed]",
      "text/plain": [
       "<Figure size 640x480 with 1 Axes>"
      ]
     },
     "metadata": {},
     "output_type": "display_data"
    }
   ],
   "source": [
    "problem_parameters = [\"n_formulae\", \"n_atoms\", \"n_variables\", \"n_literals\"]\n",
    "\n",
    "df_tptp[\"problem\"] =\\\n",
    "    df_tptp[\"Problem\"].apply(lambda x: x[:x.rindex(\".\")])\n",
    "\n",
    "df_merged = (\n",
    "    df_se_indi\n",
    "    [\n",
    "        df_se_indi[\"szs_status_of_max_r\"].notnull()\n",
    "        & df_se_indi[\"szs_status_of_max_r\"].str.contains(\"Unsatisfiable\")\n",
    "    ]\n",
    "    [[\"problem\", \"r_of_first_unsat\"]]\n",
    "    .merge(\n",
    "        df_tptp\n",
    "        [problem_parameters+[\"problem\"]],\n",
    "        on=\"problem\",\n",
    "        how=\"inner\"\n",
    "    )\n",
    "    [problem_parameters + [\"r_of_first_unsat\"]]\n",
    "    .apply(lambda x: x[x.notnull() & x.notna()])\n",
    "    .astype(float)\n",
    "    .sort_values(by=\"r_of_first_unsat\", ascending=True)\n",
    "    .reset_index(drop=True)\n",
    ")\n",
    "\n",
    "parameter = \"n_literals\"\n",
    "df_merged.plot(\n",
    "    x=parameter,\n",
    "    y=[\"r_of_first_unsat\"],\n",
    "    style=\".\",\n",
    "    ylabel=\"Minimum relevance distance\",\n",
    "    yticks=df_merged[\"r_of_first_unsat\"].to_list(),\n",
    "    title=\"Minimum relevance distance for unsatisfiability ($\\\\rho$={:f})\"\\\n",
    "        .format(df_merged[parameter].corr(df_merged[\"r_of_first_unsat\"])),\n",
    "    legend=False,\n",
    ")\n",
    "\n",
    "plt.tight_layout()"
   ]
  },
  {
   "cell_type": "markdown",
   "metadata": {},
   "source": [
    "## Profiling"
   ]
  },
  {
   "cell_type": "code",
   "execution_count": null,
   "metadata": {},
   "outputs": [
    {
     "name": "stdout",
     "output_type": "stream",
     "text": [
      "TPTP-v9.0.0/Problems/SYN/SYN063+1.p\n",
      "SYN063+1.p\n",
      "% SZS status Theorem\n",
      "\n",
      "% Initial clauses    : 31\n",
      "% Processed clauses  : 42\n",
      "% Factors computed   : 35\n",
      "% Resolvents computed: 891\n",
      "% Tautologies deleted: 0\n",
      "% Forward subsumed   : 0\n",
      "% Backward subsumed  : 0\n",
      "% -------- CPU Time ---------\n",
      "% User time          : 14.561 s\n",
      "% System time        : 0.810 s\n",
      "% Total time         : 15.371 s\n"
     ]
    },
    {
     "name": "stderr",
     "output_type": "stream",
     "text": [
      "/var/folders/pb/8wrfvtz5593cjrgr_g89r70m0000gn/T/ipykernel_55361/2534231915.py:26: UserWarning: This pattern is interpreted as a regular expression, and has match groups. To actually get the groups, use str.extract.\n",
      "  df_stats = df_stats[ df_stats[\"func\"].str.contains(r\"PyRes/(\\w+)\\.py\") ]\n"
     ]
    },
    {
     "data": {
      "text/html": [
       "<div>\n",
       "<style scoped>\n",
       "    .dataframe tbody tr th:only-of-type {\n",
       "        vertical-align: middle;\n",
       "    }\n",
       "\n",
       "    .dataframe tbody tr th {\n",
       "        vertical-align: top;\n",
       "    }\n",
       "\n",
       "    .dataframe thead th {\n",
       "        text-align: right;\n",
       "    }\n",
       "</style>\n",
       "<table border=\"1\" class=\"dataframe\">\n",
       "  <thead>\n",
       "    <tr style=\"text-align: right;\">\n",
       "      <th></th>\n",
       "      <th>func_name</th>\n",
       "      <th>line</th>\n",
       "      <th>ncalls</th>\n",
       "      <th>ccalls</th>\n",
       "      <th>tottime</th>\n",
       "      <th>cumtime</th>\n",
       "      <th>func</th>\n",
       "      <th>callers</th>\n",
       "    </tr>\n",
       "  </thead>\n",
       "  <tbody>\n",
       "    <tr>\n",
       "      <th>259</th>\n",
       "      <td>termIsVar</td>\n",
       "      <td>73</td>\n",
       "      <td>355727</td>\n",
       "      <td>0</td>\n",
       "      <td>8.787824e-02</td>\n",
       "      <td>8.776720e-02</td>\n",
       "      <td>&lt;code object termIsVar at 0x107ac1430, file \"/...</td>\n",
       "      <td>[(&lt;code object _clean_thread_parent_frames at ...</td>\n",
       "    </tr>\n",
       "    <tr>\n",
       "      <th>284</th>\n",
       "      <td>termIsCompound</td>\n",
       "      <td>81</td>\n",
       "      <td>240897</td>\n",
       "      <td>0</td>\n",
       "      <td>1.244782e-01</td>\n",
       "      <td>6.480846e-02</td>\n",
       "      <td>&lt;code object termIsCompound at 0x107ae93e0, fi...</td>\n",
       "      <td>[(&lt;code object __or__ at 0x100a85f10, file \"/o...</td>\n",
       "    </tr>\n",
       "    <tr>\n",
       "      <th>260</th>\n",
       "      <td>termFunc</td>\n",
       "      <td>89</td>\n",
       "      <td>106631</td>\n",
       "      <td>0</td>\n",
       "      <td>8.895831e-02</td>\n",
       "      <td>3.291471e-02</td>\n",
       "      <td>&lt;code object termFunc at 0x107ac1530, file \"/U...</td>\n",
       "      <td>[(&lt;method '__exit__' of 'sqlite3.Connection' o...</td>\n",
       "    </tr>\n",
       "    <tr>\n",
       "      <th>261</th>\n",
       "      <td>termArgs</td>\n",
       "      <td>97</td>\n",
       "      <td>70662</td>\n",
       "      <td>0</td>\n",
       "      <td>6.247266e-02</td>\n",
       "      <td>2.770090e-02</td>\n",
       "      <td>&lt;code object termArgs at 0x107ac1630, file \"/U...</td>\n",
       "      <td>[(&lt;method 'popleft' of 'collections.deque' obj...</td>\n",
       "    </tr>\n",
       "    <tr>\n",
       "      <th>285</th>\n",
       "      <td>isNegative</td>\n",
       "      <td>184</td>\n",
       "      <td>40132</td>\n",
       "      <td>0</td>\n",
       "      <td>4.009462e-03</td>\n",
       "      <td>4.009462e-03</td>\n",
       "      <td>&lt;code object isNegative at 0x107ae94d0, file \"...</td>\n",
       "      <td>None</td>\n",
       "    </tr>\n",
       "    <tr>\n",
       "      <th>...</th>\n",
       "      <td>...</td>\n",
       "      <td>...</td>\n",
       "      <td>...</td>\n",
       "      <td>...</td>\n",
       "      <td>...</td>\n",
       "      <td>...</td>\n",
       "      <td>...</td>\n",
       "      <td>...</td>\n",
       "    </tr>\n",
       "    <tr>\n",
       "      <th>195</th>\n",
       "      <td>formulaCNFSplit</td>\n",
       "      <td>640</td>\n",
       "      <td>1</td>\n",
       "      <td>0</td>\n",
       "      <td>6.356660e-04</td>\n",
       "      <td>3.738300e-05</td>\n",
       "      <td>&lt;code object formulaCNFSplit at 0x107947c10, f...</td>\n",
       "      <td>[(&lt;code object getMatrix at 0x1078d6b80, file ...</td>\n",
       "    </tr>\n",
       "    <tr>\n",
       "      <th>193</th>\n",
       "      <td>tptpLexer</td>\n",
       "      <td>49</td>\n",
       "      <td>1</td>\n",
       "      <td>0</td>\n",
       "      <td>2.320000e-04</td>\n",
       "      <td>5.520900e-05</td>\n",
       "      <td>&lt;code object tptpLexer at 0x107946870, file \"/...</td>\n",
       "      <td>[(&lt;code object __or__ at 0x100a85f10, file \"/o...</td>\n",
       "    </tr>\n",
       "    <tr>\n",
       "      <th>192</th>\n",
       "      <td>addEqAxioms</td>\n",
       "      <td>160</td>\n",
       "      <td>1</td>\n",
       "      <td>0</td>\n",
       "      <td>1.545420e-04</td>\n",
       "      <td>3.041000e-06</td>\n",
       "      <td>&lt;code object addEqAxioms at 0x107943850, file ...</td>\n",
       "      <td>[(&lt;code object __init__ at 0x107ae8d50, file \"...</td>\n",
       "    </tr>\n",
       "    <tr>\n",
       "      <th>219</th>\n",
       "      <td>getName</td>\n",
       "      <td>197</td>\n",
       "      <td>1</td>\n",
       "      <td>0</td>\n",
       "      <td>2.500000e-07</td>\n",
       "      <td>2.500000e-07</td>\n",
       "      <td>&lt;code object getName at 0x107a3e100, file \"/Us...</td>\n",
       "      <td>None</td>\n",
       "    </tr>\n",
       "    <tr>\n",
       "      <th>244</th>\n",
       "      <td>addFormula</td>\n",
       "      <td>111</td>\n",
       "      <td>1</td>\n",
       "      <td>0</td>\n",
       "      <td>1.375000e-06</td>\n",
       "      <td>1.250000e-06</td>\n",
       "      <td>&lt;code object addFormula at 0x107aa17f0, file \"...</td>\n",
       "      <td>[(&lt;method 'append' of 'list' objects&gt;, 1, 0, 1...</td>\n",
       "    </tr>\n",
       "  </tbody>\n",
       "</table>\n",
       "<p>161 rows × 8 columns</p>\n",
       "</div>"
      ],
      "text/plain": [
       "           func_name  line  ncalls  ccalls       tottime       cumtime  \\\n",
       "259        termIsVar    73  355727       0  8.787824e-02  8.776720e-02   \n",
       "284   termIsCompound    81  240897       0  1.244782e-01  6.480846e-02   \n",
       "260         termFunc    89  106631       0  8.895831e-02  3.291471e-02   \n",
       "261         termArgs    97   70662       0  6.247266e-02  2.770090e-02   \n",
       "285       isNegative   184   40132       0  4.009462e-03  4.009462e-03   \n",
       "..               ...   ...     ...     ...           ...           ...   \n",
       "195  formulaCNFSplit   640       1       0  6.356660e-04  3.738300e-05   \n",
       "193        tptpLexer    49       1       0  2.320000e-04  5.520900e-05   \n",
       "192      addEqAxioms   160       1       0  1.545420e-04  3.041000e-06   \n",
       "219          getName   197       1       0  2.500000e-07  2.500000e-07   \n",
       "244       addFormula   111       1       0  1.375000e-06  1.250000e-06   \n",
       "\n",
       "                                                  func  \\\n",
       "259  <code object termIsVar at 0x107ac1430, file \"/...   \n",
       "284  <code object termIsCompound at 0x107ae93e0, fi...   \n",
       "260  <code object termFunc at 0x107ac1530, file \"/U...   \n",
       "261  <code object termArgs at 0x107ac1630, file \"/U...   \n",
       "285  <code object isNegative at 0x107ae94d0, file \"...   \n",
       "..                                                 ...   \n",
       "195  <code object formulaCNFSplit at 0x107947c10, f...   \n",
       "193  <code object tptpLexer at 0x107946870, file \"/...   \n",
       "192  <code object addEqAxioms at 0x107943850, file ...   \n",
       "219  <code object getName at 0x107a3e100, file \"/Us...   \n",
       "244  <code object addFormula at 0x107aa17f0, file \"...   \n",
       "\n",
       "                                               callers  \n",
       "259  [(<code object _clean_thread_parent_frames at ...  \n",
       "284  [(<code object __or__ at 0x100a85f10, file \"/o...  \n",
       "260  [(<method '__exit__' of 'sqlite3.Connection' o...  \n",
       "261  [(<method 'popleft' of 'collections.deque' obj...  \n",
       "285                                               None  \n",
       "..                                                 ...  \n",
       "195  [(<code object getMatrix at 0x1078d6b80, file ...  \n",
       "193  [(<code object __or__ at 0x100a85f10, file \"/o...  \n",
       "192  [(<code object __init__ at 0x107ae8d50, file \"...  \n",
       "219                                               None  \n",
       "244  [(<method 'append' of 'list' objects>, 1, 0, 1...  \n",
       "\n",
       "[161 rows x 8 columns]"
      ]
     },
     "execution_count": 13,
     "metadata": {},
     "output_type": "execute_result"
    }
   ],
   "source": [
    "opts = [\n",
    "    (\"-s\", \"\"),\n",
    "    (\"-r\", \"5\"),\n",
    "]\n",
    "problem_dir = df_tptp[\"full_file_name\"][1000]\n",
    "problem_name = problem_dir[problem_dir.rindex(\"/\")+1:]\n",
    "args = [\n",
    "    problem_dir\n",
    "    # \"TPTP-v9.0.0/Problems/AGT/AGT042+1.p\"\n",
    "    # pyres_dir + \"/EXAMPLES/PUZ001+1.p\"\n",
    "    # \"TPTP-v9.0.0/Problems/MED/MED007+1.p\"\n",
    "    # \"TPTP-v9.0.0/Problems/CSR/CSR038+3.p\"\n",
    "\n",
    "]\n",
    "\n",
    "with cProfile.Profile() as pr:\n",
    "    pyres_fof.main(from_notebook=True, notebook_opts=opts, notebook_args=args)\n",
    "    df_function_stats = pd.DataFrame(\n",
    "        pr.getstats(),\n",
    "        columns=[\"func\", \"ncalls\", \"ccalls\",\n",
    "                 \"tottime\", \"cumtime\", \"callers\"]\n",
    "    )\n",
    "df_function_stats[\"func\"] = df_function_stats[\"func\"].astype(str)\n",
    "df_function_stats = \\\n",
    "    df_function_stats[ \\\n",
    "        df_function_stats[\"func\"].str.contains(r\"PyRes/(\\w+)\\.py\") ]\n",
    "\n",
    "func_names = []\n",
    "lines = []\n",
    "for value in df_function_stats[\"func\"]:\n",
    "    func_name = re.search(r'(?<=code object )(\\w+)', value)\n",
    "    line = re.search(r'(?<=line )(\\d+)', value)\n",
    "    func_names.append(func_name.group() if func_name is not None else None)\n",
    "    lines.append(int(line.group()) if line is not None else None)\n",
    "df_function_stats[\"func_name\"] = func_names\n",
    "df_function_stats[\"line\"] = lines\n",
    "\n",
    "df_function_stats = (\n",
    "        df_function_stats[[\"func_name\", \"line\", \"ncalls\", \"ccalls\",\n",
    "                  \"tottime\", \"cumtime\", \"func\", \"callers\"]]\n",
    "        .sort_values(\"ncalls\", ascending=False)\n",
    ")\n",
    "\n",
    "\n",
    "datestring = (\n",
    "    datetime.now().isoformat()\n",
    "    .replace(\"2025-\", \"\")\n",
    ")\n",
    "datestring = datestring[:datestring.rindex(\".\")]\n",
    "\n",
    "df_function_stats.to_csv(\n",
    "    str(notebook_dir)\n",
    "    + f\"/profiling/{datestring}_{problem_name}.csv\"\n",
    "    .replace(\".p\", \"\")\n",
    ")\n",
    "df_function_stats"
   ]
  },
  {
   "cell_type": "markdown",
   "metadata": {},
   "source": [
    "#### Filter for alternating path functions "
   ]
  },
  {
   "cell_type": "code",
   "execution_count": 10,
   "metadata": {},
   "outputs": [
    {
     "data": {
      "text/html": [
       "<div>\n",
       "<style scoped>\n",
       "    .dataframe tbody tr th:only-of-type {\n",
       "        vertical-align: middle;\n",
       "    }\n",
       "\n",
       "    .dataframe tbody tr th {\n",
       "        vertical-align: top;\n",
       "    }\n",
       "\n",
       "    .dataframe thead th {\n",
       "        text-align: right;\n",
       "    }\n",
       "</style>\n",
       "<table border=\"1\" class=\"dataframe\">\n",
       "  <thead>\n",
       "    <tr style=\"text-align: right;\">\n",
       "      <th></th>\n",
       "      <th>func_name</th>\n",
       "      <th>line</th>\n",
       "      <th>ncalls</th>\n",
       "      <th>ccalls</th>\n",
       "      <th>tottime</th>\n",
       "      <th>cumtime</th>\n",
       "      <th>func</th>\n",
       "      <th>callers</th>\n",
       "    </tr>\n",
       "  </thead>\n",
       "  <tbody>\n",
       "    <tr>\n",
       "      <th>235</th>\n",
       "      <td>edge_neighb_of_subset</td>\n",
       "      <td>91</td>\n",
       "      <td>8004594</td>\n",
       "      <td>0</td>\n",
       "      <td>0.729436</td>\n",
       "      <td>0.729436</td>\n",
       "      <td>&lt;code object edge_neighb_of_subset at 0x104c1b...</td>\n",
       "      <td>NaN</td>\n",
       "    </tr>\n",
       "    <tr>\n",
       "      <th>280</th>\n",
       "      <td>NaN</td>\n",
       "      <td>98</td>\n",
       "      <td>8004594</td>\n",
       "      <td>0</td>\n",
       "      <td>2.787934</td>\n",
       "      <td>2.058498</td>\n",
       "      <td>&lt;code object &lt;lambda&gt; at 0x104c79200, file \"/U...</td>\n",
       "      <td>[_lsprof.profiler_subentry(code=&lt;code object e...</td>\n",
       "    </tr>\n",
       "    <tr>\n",
       "      <th>279</th>\n",
       "      <td>__init__</td>\n",
       "      <td>19</td>\n",
       "      <td>5006</td>\n",
       "      <td>0</td>\n",
       "      <td>0.000657</td>\n",
       "      <td>0.000657</td>\n",
       "      <td>&lt;code object __init__ at 0x104c79110, file \"/U...</td>\n",
       "      <td>NaN</td>\n",
       "    </tr>\n",
       "    <tr>\n",
       "      <th>278</th>\n",
       "      <td>__init__</td>\n",
       "      <td>9</td>\n",
       "      <td>1702</td>\n",
       "      <td>0</td>\n",
       "      <td>0.000144</td>\n",
       "      <td>0.000144</td>\n",
       "      <td>&lt;code object __init__ at 0x104c79020, file \"/U...</td>\n",
       "      <td>NaN</td>\n",
       "    </tr>\n",
       "    <tr>\n",
       "      <th>272</th>\n",
       "      <td>NaN</td>\n",
       "      <td>87</td>\n",
       "      <td>1702</td>\n",
       "      <td>0</td>\n",
       "      <td>0.000163</td>\n",
       "      <td>0.000163</td>\n",
       "      <td>&lt;code object &lt;lambda&gt; at 0x104c52b30, file \"/U...</td>\n",
       "      <td>NaN</td>\n",
       "    </tr>\n",
       "    <tr>\n",
       "      <th>284</th>\n",
       "      <td>get_neighbours</td>\n",
       "      <td>95</td>\n",
       "      <td>1599</td>\n",
       "      <td>0</td>\n",
       "      <td>4.077462</td>\n",
       "      <td>1.289528</td>\n",
       "      <td>&lt;code object get_neighbours at 0x104c983b0, fi...</td>\n",
       "      <td>[_lsprof.profiler_subentry(code=&lt;code object &lt;...</td>\n",
       "    </tr>\n",
       "    <tr>\n",
       "      <th>270</th>\n",
       "      <td>get_all_nodes</td>\n",
       "      <td>73</td>\n",
       "      <td>1</td>\n",
       "      <td>0</td>\n",
       "      <td>0.000036</td>\n",
       "      <td>0.000036</td>\n",
       "      <td>&lt;code object get_all_nodes at 0x104c52230, fil...</td>\n",
       "      <td>NaN</td>\n",
       "    </tr>\n",
       "    <tr>\n",
       "      <th>163</th>\n",
       "      <td>construct_betweenclause_edges</td>\n",
       "      <td>57</td>\n",
       "      <td>1</td>\n",
       "      <td>0</td>\n",
       "      <td>5.855480</td>\n",
       "      <td>0.215930</td>\n",
       "      <td>&lt;code object construct_betweenclause_edges at ...</td>\n",
       "      <td>[_lsprof.profiler_subentry(code=&lt;code object t...</td>\n",
       "    </tr>\n",
       "    <tr>\n",
       "      <th>196</th>\n",
       "      <td>nodes_to_clauses</td>\n",
       "      <td>76</td>\n",
       "      <td>1</td>\n",
       "      <td>0</td>\n",
       "      <td>0.000007</td>\n",
       "      <td>0.000006</td>\n",
       "      <td>&lt;code object nodes_to_clauses at 0x1043e8030, ...</td>\n",
       "      <td>[_lsprof.profiler_subentry(code=&lt;code object _...</td>\n",
       "    </tr>\n",
       "    <tr>\n",
       "      <th>199</th>\n",
       "      <td>get_rel_neighbourhood</td>\n",
       "      <td>109</td>\n",
       "      <td>1</td>\n",
       "      <td>0</td>\n",
       "      <td>4.080163</td>\n",
       "      <td>0.002488</td>\n",
       "      <td>&lt;code object get_rel_neighbourhood at 0x1043f3...</td>\n",
       "      <td>[_lsprof.profiler_subentry(code=&lt;code object c...</td>\n",
       "    </tr>\n",
       "    <tr>\n",
       "      <th>201</th>\n",
       "      <td>construct_nodes</td>\n",
       "      <td>35</td>\n",
       "      <td>1</td>\n",
       "      <td>0</td>\n",
       "      <td>0.001467</td>\n",
       "      <td>0.001082</td>\n",
       "      <td>&lt;code object construct_nodes at 0x1043f6bb0, f...</td>\n",
       "      <td>[_lsprof.profiler_subentry(code=&lt;code object _...</td>\n",
       "    </tr>\n",
       "    <tr>\n",
       "      <th>212</th>\n",
       "      <td>__init__</td>\n",
       "      <td>28</td>\n",
       "      <td>1</td>\n",
       "      <td>0</td>\n",
       "      <td>8.229538</td>\n",
       "      <td>0.000102</td>\n",
       "      <td>&lt;code object __init__ at 0x1045a7cb0, file \"/U...</td>\n",
       "      <td>[_lsprof.profiler_subentry(code=&lt;code object _...</td>\n",
       "    </tr>\n",
       "    <tr>\n",
       "      <th>234</th>\n",
       "      <td>clauses_to_nodes</td>\n",
       "      <td>84</td>\n",
       "      <td>1</td>\n",
       "      <td>0</td>\n",
       "      <td>0.000043</td>\n",
       "      <td>0.000007</td>\n",
       "      <td>&lt;code object clauses_to_nodes at 0x104c1bdd0, ...</td>\n",
       "      <td>[_lsprof.profiler_subentry(code=&lt;code object g...</td>\n",
       "    </tr>\n",
       "    <tr>\n",
       "      <th>264</th>\n",
       "      <td>construct_inclause_edges</td>\n",
       "      <td>45</td>\n",
       "      <td>1</td>\n",
       "      <td>0</td>\n",
       "      <td>0.030995</td>\n",
       "      <td>0.030858</td>\n",
       "      <td>&lt;code object construct_inclause_edges at 0x104...</td>\n",
       "      <td>[_lsprof.profiler_subentry(code=\"&lt;method 'add'...</td>\n",
       "    </tr>\n",
       "  </tbody>\n",
       "</table>\n",
       "</div>"
      ],
      "text/plain": [
       "                         func_name  line   ncalls  ccalls   tottime   cumtime  \\\n",
       "235          edge_neighb_of_subset    91  8004594       0  0.729436  0.729436   \n",
       "280                            NaN    98  8004594       0  2.787934  2.058498   \n",
       "279                       __init__    19     5006       0  0.000657  0.000657   \n",
       "278                       __init__     9     1702       0  0.000144  0.000144   \n",
       "272                            NaN    87     1702       0  0.000163  0.000163   \n",
       "284                 get_neighbours    95     1599       0  4.077462  1.289528   \n",
       "270                  get_all_nodes    73        1       0  0.000036  0.000036   \n",
       "163  construct_betweenclause_edges    57        1       0  5.855480  0.215930   \n",
       "196               nodes_to_clauses    76        1       0  0.000007  0.000006   \n",
       "199          get_rel_neighbourhood   109        1       0  4.080163  0.002488   \n",
       "201                construct_nodes    35        1       0  0.001467  0.001082   \n",
       "212                       __init__    28        1       0  8.229538  0.000102   \n",
       "234               clauses_to_nodes    84        1       0  0.000043  0.000007   \n",
       "264       construct_inclause_edges    45        1       0  0.030995  0.030858   \n",
       "\n",
       "                                                  func  \\\n",
       "235  <code object edge_neighb_of_subset at 0x104c1b...   \n",
       "280  <code object <lambda> at 0x104c79200, file \"/U...   \n",
       "279  <code object __init__ at 0x104c79110, file \"/U...   \n",
       "278  <code object __init__ at 0x104c79020, file \"/U...   \n",
       "272  <code object <lambda> at 0x104c52b30, file \"/U...   \n",
       "284  <code object get_neighbours at 0x104c983b0, fi...   \n",
       "270  <code object get_all_nodes at 0x104c52230, fil...   \n",
       "163  <code object construct_betweenclause_edges at ...   \n",
       "196  <code object nodes_to_clauses at 0x1043e8030, ...   \n",
       "199  <code object get_rel_neighbourhood at 0x1043f3...   \n",
       "201  <code object construct_nodes at 0x1043f6bb0, f...   \n",
       "212  <code object __init__ at 0x1045a7cb0, file \"/U...   \n",
       "234  <code object clauses_to_nodes at 0x104c1bdd0, ...   \n",
       "264  <code object construct_inclause_edges at 0x104...   \n",
       "\n",
       "                                               callers  \n",
       "235                                                NaN  \n",
       "280  [_lsprof.profiler_subentry(code=<code object e...  \n",
       "279                                                NaN  \n",
       "278                                                NaN  \n",
       "272                                                NaN  \n",
       "284  [_lsprof.profiler_subentry(code=<code object <...  \n",
       "270                                                NaN  \n",
       "163  [_lsprof.profiler_subentry(code=<code object t...  \n",
       "196  [_lsprof.profiler_subentry(code=<code object _...  \n",
       "199  [_lsprof.profiler_subentry(code=<code object c...  \n",
       "201  [_lsprof.profiler_subentry(code=<code object _...  \n",
       "212  [_lsprof.profiler_subentry(code=<code object _...  \n",
       "234  [_lsprof.profiler_subentry(code=<code object g...  \n",
       "264  [_lsprof.profiler_subentry(code=\"<method 'add'...  "
      ]
     },
     "execution_count": 10,
     "metadata": {},
     "output_type": "execute_result"
    }
   ],
   "source": [
    "df_function_stats = pd.read_csv(\"profiling/profiling_runs.csv\", index_col=0)\n",
    "df_function_stats[ df_function_stats[\"func\"].str.contains(\"alternatingpath.py\") ]"
   ]
  }
 ],
 "metadata": {
  "kernelspec": {
   "display_name": ".venv",
   "language": "python",
   "name": "python3"
  },
  "language_info": {
   "codemirror_mode": {
    "name": "ipython",
    "version": 3
   },
   "file_extension": ".py",
   "mimetype": "text/x-python",
   "name": "python",
   "nbconvert_exporter": "python",
   "pygments_lexer": "ipython3",
   "version": "3.13.0"
  }
 },
 "nbformat": 4,
 "nbformat_minor": 2
}
