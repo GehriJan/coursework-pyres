{
 "cells": [
  {
   "cell_type": "markdown",
   "metadata": {},
   "source": [
    "# Utils"
   ]
  },
  {
   "cell_type": "markdown",
   "metadata": {},
   "source": [
    "### Create Run-scripts"
   ]
  },
  {
   "cell_type": "code",
   "execution_count": null,
   "metadata": {},
   "outputs": [
    {
     "name": "stdout",
     "output_type": "stream",
     "text": [
      "[2, 3, 5, 8, 13, 21, 33, 54]\n"
     ]
    },
    {
     "name": "stderr",
     "output_type": "stream",
     "text": [
      "100%|██████████| 8/8 [00:00<00:00, 677.98it/s]\n"
     ]
    }
   ],
   "source": [
    "import os\n",
    "import numpy as np\n",
    "import math\n",
    "if True:\n",
    "    from tqdm import trange\n",
    "    abstract_runscript_content = \"\"\"#!/bin/tcsh\n",
    "#\n",
    "# This is a StarExec runscript for PyRes. See https://www.starexec.org.\n",
    "#\n",
    "# To use this, build a StarExec package with \"make starexec\" and\n",
    "# upload it to a StarExec cluster - then follow local instructions\n",
    "# ;-).\n",
    "#\n",
    "source /etc/profile.d/modules.csh\n",
    "setenv MODULEPATH /starexec/sw/modulefiles/Linux:/starexec/sw/modulefiles/Core:/starexec/sw/lmod/lmod/modulefiles/Core\n",
    "module load python/3.13.0\n",
    "python --version\n",
    "which python3.13.0\n",
    "echo -n \"% Problem    : \" ; head -2 $1 | tail -1 | sed -e \"s/.*  : //\"\n",
    "set ProblemSPC=`grep \" SPC \" $1 | sed -e \"s/.* : //\"`\n",
    "set default_flags=\"-tifbsVp -nlargest -HPickGiven5\"\n",
    "set rel_flags=\"-r [rel_distance]\"\n",
    "set final=\" \"$1\n",
    "set ecmd=\"python3 ./pyres_fof.py $default_flags $rel_flags $final\"\n",
    "python3 --version\n",
    "if ( `expr \"$ProblemSPC\" : \"FOF.*\"` || `expr \"$ProblemSPC\" : \"CNF.*\"` ) then\n",
    "\techo \"% Command    : \" $ecmd\n",
    "\t/home/starexec/bin/GetComputerInfo -p THIS Model CPUModel RAMPerCPU OS | \\\n",
    "        sed -e \"s/Computer     /% Computer   /\" \\\n",
    "            -e \"s/Model        /% Model      /\" \\\n",
    "            -e \"s/CPUModel     /% CPU        /\" \\\n",
    "            -e \"s/RAMPerCPU    /% Memory     /\" \\\n",
    "            -e \"s/OS           /% OS         /\"\n",
    "\techo -n \"% CPULimit   : \" ; echo \"$STAREXEC_CPU_LIMIT\"\n",
    "\techo -n \"% DateTime   : \" ; date\n",
    "\techo \"% CPUTime    : \"\n",
    "\t$ecmd\n",
    "else\n",
    "    echo \"% SZS status Inappropriate\"\n",
    "endif\n",
    "    \"\"\"\n",
    "\n",
    "    abstract_file_name = \"run_scripts/starexec_run_PyRes_rd_[rel_distance]\"\n",
    "\n",
    "    for f in os.listdir(\"run_scripts/\"):\n",
    "        os.remove(os.path.join(\"run_scripts/\", f))\n",
    "\n",
    "    X = np.arange(0, 10)\n",
    "    def get_rel_distances(X, end_of_linear):\n",
    "        a = 10\n",
    "        steepness_expo = 1.5\n",
    "        additive = -(end_of_linear/a)+steepness_expo\n",
    "        return np.real(np.where(\n",
    "            X<=(end_of_linear/a),\n",
    "            a*X,\n",
    "            a*(np.emath.logn(steepness_expo, X+additive)*(X+additive)-additive)\n",
    "        )).astype(int).tolist()\n",
    "\n",
    "    rel_distances = get_rel_distances(X, 50)\n",
    "    rel_distances = [2, 3, 5, 8, 13, 21, 33, 54]\n",
    "    print(rel_distances)\n",
    "\n",
    "    for x in tqdm(rel_distances):\n",
    "        def substitute(text): return text.replace(\"[rel_distance]\", f\"{x:03d}\")\n",
    "\n",
    "        file_name = substitute(abstract_file_name)\n",
    "        file_content = substitute(abstract_runscript_content)\n",
    "        with open(file_name, \"w\") as file:\n",
    "            file.write(file_content)"
   ]
  }
 ],
 "metadata": {
  "language_info": {
   "name": "python"
  }
 },
 "nbformat": 4,
 "nbformat_minor": 2
}
